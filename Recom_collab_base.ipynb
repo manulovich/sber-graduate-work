{
 "cells": [
  {
   "cell_type": "markdown",
   "id": "b7c701c2-fc16-477c-a483-4c7a6e507378",
   "metadata": {},
   "source": [
    "# Рекомендация на основе коллаборативной системы"
   ]
  },
  {
   "cell_type": "markdown",
   "id": "a10e3f54-2edf-4505-9903-23dffe1e2d65",
   "metadata": {},
   "source": [
    "Для того, чтобы начать применять алгоритмы машинного обучения для составления рекомендаций, нужно составить матрицу предпочтений."
   ]
  },
  {
   "cell_type": "markdown",
   "id": "aa7dc440-8a52-4e66-9dfa-2e66e1854e10",
   "metadata": {},
   "source": [
    "## Библиотеки"
   ]
  },
  {
   "cell_type": "code",
   "execution_count": 1,
   "id": "f931425d-b3cc-4be2-9dc3-4c2ca6656a58",
   "metadata": {},
   "outputs": [],
   "source": [
    "import pandas as pd\n",
    "from sklearn.neighbors import NearestNeighbors\n",
    "from utils import HM"
   ]
  },
  {
   "cell_type": "markdown",
   "id": "9d388793-f059-40b7-8f0a-c1e3252612c6",
   "metadata": {},
   "source": [
    "## Загрузка данных"
   ]
  },
  {
   "cell_type": "code",
   "execution_count": 2,
   "id": "661bd322-6dd6-432e-9685-ff77aed0bd1e",
   "metadata": {},
   "outputs": [],
   "source": [
    "hm = HM()\n",
    "\n",
    "articles = hm.get_articles(is_prepared=True)\n",
    "customers = hm.get_customers()\n",
    "sample_submission = hm.get_sample_submission()\n",
    "transactions_train = hm.get_transactions_train()"
   ]
  },
  {
   "cell_type": "markdown",
   "id": "3ee2aeb0-242d-4da8-b2c6-2486af50eded",
   "metadata": {},
   "source": [
    "## Составление матрицы предпочтений на основе предмета рекомендации"
   ]
  },
  {
   "cell_type": "markdown",
   "id": "532bde22-70bf-4ed1-8cd2-9c701e9e3f04",
   "metadata": {},
   "source": [
    "Из `transactions_train` вытащим последние покупки для каждого клиента для предсказание будущих закупок, а остальные данные используем для построения матрицы предпочтений."
   ]
  },
  {
   "cell_type": "markdown",
   "id": "0a2b7bae-8121-44c3-a769-e00039f3d68e",
   "metadata": {},
   "source": [
    "### Разделение `transactions_train`"
   ]
  },
  {
   "cell_type": "code",
   "execution_count": 3,
   "id": "72522efd-7706-47c0-941d-3d8a9b3663f5",
   "metadata": {},
   "outputs": [],
   "source": [
    "transactions_train['t_dat'] = pd.to_datetime(transactions_train['t_dat'])"
   ]
  },
  {
   "cell_type": "code",
   "execution_count": 4,
   "id": "d3050d9d-6520-47e5-81ee-049ff1221af4",
   "metadata": {},
   "outputs": [],
   "source": [
    "# last_transactions = transactions_train.groupby('customer_id').apply(lambda x: x.sort_values(by='t_dat', ascending=False).iloc[0])\n",
    "# last_transactions[['t_dat', 'article_id', 'price', 'sales_channel_id']].to_csv('./data_prepared/last_transactions.csv')"
   ]
  },
  {
   "cell_type": "code",
   "execution_count": 5,
   "id": "857d59c6-0ccf-4937-800b-1be22ecba84b",
   "metadata": {},
   "outputs": [],
   "source": [
    "last_transactions = pd.read_csv('./data_prepared/last_transactions.csv')"
   ]
  },
  {
   "cell_type": "code",
   "execution_count": 6,
   "id": "c2cad6b5-921a-4754-8d2a-096c402fb97f",
   "metadata": {},
   "outputs": [],
   "source": [
    "last_transactions['t_dat'] = pd.to_datetime(last_transactions['t_dat'])"
   ]
  },
  {
   "cell_type": "code",
   "execution_count": 7,
   "id": "11a26f0e-0657-4650-9870-2bf797f078f8",
   "metadata": {},
   "outputs": [],
   "source": [
    "last_transactions = last_transactions.set_index('customer_id')"
   ]
  },
  {
   "cell_type": "code",
   "execution_count": 8,
   "id": "22a03fd4-9e38-4909-be5f-26ab4d9761c7",
   "metadata": {},
   "outputs": [],
   "source": [
    "# Удалим последние покупки клиентов\n",
    "# Способо удаления взят от сюда https://clck.ru/335orn\n",
    "\n",
    "# transactions = transactions_train.merge(last_transactions, on=last_transactions.columns.tolist(), how='outer', indicator=True)\\\n",
    "#    .query(\"_merge != 'both'\")\\\n",
    "#    .drop('_merge', axis=1)\\\n",
    "#    .reset_index(drop=True)\n",
    "#transactions.set_index('customer_id').to_csv('./data_prepared/transactions.csv')"
   ]
  },
  {
   "cell_type": "code",
   "execution_count": 9,
   "id": "4556fa5a-b482-4b99-9b7f-2a6fa6a55e80",
   "metadata": {},
   "outputs": [],
   "source": [
    "transactions = pd.read_csv('./data_prepared/transactions.csv')"
   ]
  },
  {
   "cell_type": "markdown",
   "id": "809bd8bb-3d19-4b93-b417-fe17e34c8f19",
   "metadata": {},
   "source": [
    "### Состалвение матрицы предпочтений\n",
    "\n",
    "Так как `pivot_table` - затратный метод, отсортируем все транзакции по рейтингу товара и возьмем выборку самых популярных"
   ]
  },
  {
   "cell_type": "code",
   "execution_count": 10,
   "id": "6f15df0e-69f2-4b29-bc70-b6bcf6af0b99",
   "metadata": {},
   "outputs": [],
   "source": [
    "transactions_with_rating = transactions.merge(articles[['article_id', 'rating']], on='article_id', how='left')"
   ]
  },
  {
   "cell_type": "code",
   "execution_count": 11,
   "id": "6db83950-61ea-4c73-bfa8-99feccb54a1a",
   "metadata": {},
   "outputs": [],
   "source": [
    "transactions_with_rating = transactions_with_rating.sort_values(by='rating', ascending=False)"
   ]
  },
  {
   "cell_type": "code",
   "execution_count": 12,
   "id": "b3f76ebc-8de6-4066-acb3-9519923ff12e",
   "metadata": {},
   "outputs": [],
   "source": [
    "preference_matrix = pd.pivot_table(transactions_with_rating[:1_000_000], index=[\"article_id\"], values='t_dat', columns='customer_id', aggfunc=len)"
   ]
  },
  {
   "cell_type": "code",
   "execution_count": 13,
   "id": "f0de7b40-76c6-4f74-a596-fab91f4a0459",
   "metadata": {},
   "outputs": [],
   "source": [
    "preference_matrix = preference_matrix.fillna(0)"
   ]
  },
  {
   "cell_type": "code",
   "execution_count": 14,
   "id": "3bd5a352-5f04-424e-af9e-a28dc14dcec9",
   "metadata": {},
   "outputs": [],
   "source": [
    "preference_matrix.columns = range(preference_matrix.shape[1])"
   ]
  },
  {
   "cell_type": "markdown",
   "id": "48090b7f-939e-4ff7-940a-e03641b3355a",
   "metadata": {},
   "source": [
    "## Обучение модели"
   ]
  },
  {
   "cell_type": "code",
   "execution_count": 15,
   "id": "7b23f7be-782a-4431-963e-b2e4eed5b404",
   "metadata": {},
   "outputs": [
    {
     "data": {
      "text/plain": [
       "NearestNeighbors(metric='cosine', n_jobs=-1, n_neighbors=20)"
      ]
     },
     "execution_count": 15,
     "metadata": {},
     "output_type": "execute_result"
    }
   ],
   "source": [
    "knn = NearestNeighbors(metric='cosine', n_neighbors=20, n_jobs=-1)\n",
    "knn.fit(preference_matrix)"
   ]
  },
  {
   "cell_type": "markdown",
   "id": "3507a6ac-ae81-4c9b-82df-d04b13244d1d",
   "metadata": {},
   "source": [
    "## Составление рекомендаций"
   ]
  },
  {
   "cell_type": "code",
   "execution_count": 16,
   "id": "e3c6215f-3615-412a-9be3-34037649e206",
   "metadata": {},
   "outputs": [],
   "source": [
    "count_pred = 13\n",
    "top_rating_articles = ' '.join(articles[:count_pred]['article_id'].map(lambda x: '0' + str(x)))"
   ]
  },
  {
   "cell_type": "code",
   "execution_count": 17,
   "id": "63dba6d2-47e5-46b5-842a-f46db332268c",
   "metadata": {},
   "outputs": [],
   "source": [
    "predict_for = sample_submission['customer_id'].tolist()\n",
    "sample_submission = sample_submission.set_index('customer_id')"
   ]
  },
  {
   "cell_type": "code",
   "execution_count": null,
   "id": "c8c7abf2-9098-46ab-b669-05426fd8c832",
   "metadata": {},
   "outputs": [],
   "source": [
    "import os\n",
    "\n",
    "clear = lambda: os.system('cls')\n",
    "\n",
    "counter = {\n",
    "    'not in': 0,\n",
    "    'in': 0\n",
    "}\n",
    "\n",
    "for i in range(len(predict_for)):\n",
    "    customer = predict_for[i]\n",
    "    \n",
    "    if customer not in last_transactions.index:\n",
    "        sample_submission.loc[customer, 'prediction'] = top_rating_articles\n",
    "        counter['not in'] += 1\n",
    "        continue\n",
    "    \n",
    "    prev_article = last_transactions.loc[customer]['article_id']\n",
    "    \n",
    "    if prev_article not in preference_matrix.index:\n",
    "        sample_submission.loc[customer, 'prediction'] = top_rating_articles\n",
    "        counter['not in'] += 1\n",
    "        continue\n",
    "    \n",
    "    distances, indices = knn.kneighbors([preference_matrix.loc[prev_article].tolist()], n_neighbors=count_pred+1)\n",
    "    \n",
    "    articles = list()\n",
    "    \n",
    "    for idx in indices[0]:\n",
    "        articles.append(preference_matrix.iloc[idx].name)\n",
    "    \n",
    "    sample_submission.loc[customer, 'prediction'] = ' '.join(map(lambda x: '0' + str(x), articles[1:]))\n",
    "    counter['in'] += 1"
   ]
  },
  {
   "attachments": {
    "c3f5659f-51b9-49f6-bf79-c16f5d88e03f.png": {
     "image/png": "[encoded data removed]"
    }
   },
   "cell_type": "markdown",
   "id": "6f9594e1-0088-441d-bb68-c88ea0150259",
   "metadata": {},
   "source": [
    "## Вывод\n",
    "Ужасный подход к реализации концепнии коллаборативной рекомендации. А также опять плохой результат. Пора начать вдохновляться чужими решениями.\n",
    "\n",
    "![изображение.png](attachment:c3f5659f-51b9-49f6-bf79-c16f5d88e03f.png)"
   ]
  },
  {
   "cell_type": "code",
   "execution_count": null,
   "id": "9436008d-d850-4b1d-935a-152e2d1c3fa8",
   "metadata": {},
   "outputs": [],
   "source": []
  }
 ],
 "metadata": {
  "kernelspec": {
   "display_name": "Python 3 (ipykernel)",
   "language": "python",
   "name": "python3"
  },
  "language_info": {
   "codemirror_mode": {
    "name": "ipython",
    "version": 3
   },
   "file_extension": ".py",
   "mimetype": "text/x-python",
   "name": "python",
   "nbconvert_exporter": "python",
   "pygments_lexer": "ipython3",
   "version": "3.10.6"
  }
 },
 "nbformat": 4,
 "nbformat_minor": 5
}
