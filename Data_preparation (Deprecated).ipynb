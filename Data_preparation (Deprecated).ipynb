{
 "cells": [
  {
   "cell_type": "markdown",
   "id": "669c6510-685c-4dbf-bdf9-7d5208a2437e",
   "metadata": {},
   "source": [
    "# Подготовка данных\n",
    "\n",
    "## Описание датасета\n",
    "Для выполнения задания предоставляется история покупок клиентов за определенный период времени, а также вспомогательные метаданные. Задача состоит в том, чтобы предсказать, какие товары купит каждый покупатель в течение 7 дней сразу после окончания обучающих данных. Клиенты, не совершившие ни одной покупки в течение этого времени, исключаются из подсчета очков.\n",
    "\n",
    "## Содержание\n",
    "- __images/__ - Папка с папками, наименования которых соответсвуют первым 3 цифрам article_id, которые расположены внутри;\n",
    "- __article.csv__ — Пдробные метаданные для каждого article_id, доступного для покупки;\n",
    "- __customers.csv__ — Метаданные для каждого customer_id в наборе данных;\n",
    "- __sample_submission.csv__ — Образец решения для Kaggle;\n",
    "- __transaction_train.csv__ — Обучающие данные."
   ]
  },
  {
   "cell_type": "markdown",
   "id": "50e928c2-71ee-4179-98ef-5c0100c27358",
   "metadata": {},
   "source": [
    "## Библиотеки"
   ]
  },
  {
   "cell_type": "code",
   "execution_count": null,
   "id": "e1c8cb39-0034-4c2e-a3c1-66c65a00ccc5",
   "metadata": {},
   "outputs": [],
   "source": [
    "import pandas as pd\n",
    "import seaborn as sns\n",
    "import numpy as np\n",
    "from utils import HM"
   ]
  },
  {
   "cell_type": "markdown",
   "id": "12a3c9ce-6746-467f-a884-77d81fd8b8fc",
   "metadata": {},
   "source": [
    "## Загрузка данных"
   ]
  },
  {
   "cell_type": "code",
   "execution_count": null,
   "id": "baf778f2-d485-430b-9549-06e6db749641",
   "metadata": {},
   "outputs": [],
   "source": [
    "hm = HM()\n",
    "\n",
    "articles = hm.get_articles()\n",
    "customers = hm.get_customers()\n",
    "sample_submission = hm.get_sample_submission()\n",
    "transactions_train = hm.get_transactions_train()"
   ]
  },
  {
   "cell_type": "markdown",
   "id": "cb9f26f5-cbaa-4acc-bd16-2665bd2de984",
   "metadata": {},
   "source": [
    "## Составление датасета для решения задачи"
   ]
  },
  {
   "cell_type": "markdown",
   "id": "366dd075-b488-43d3-bd97-4fd8ea687aa6",
   "metadata": {},
   "source": [
    "### Сделаем подсчет рейтинга для каждого товара из файла с транзакциями"
   ]
  },
  {
   "cell_type": "code",
   "execution_count": 15,
   "id": "35d78438-7046-4578-bc28-5f5bac292959",
   "metadata": {},
   "outputs": [],
   "source": [
    "article_count = transactions_train['article_id'].value_counts()"
   ]
  },
  {
   "cell_type": "code",
   "execution_count": 16,
   "id": "423cd72e-58bb-48f2-80c2-767e15f9a1da",
   "metadata": {},
   "outputs": [
    {
     "data": {
      "text/plain": [
       "706016001    50287\n",
       "706016002    35043\n",
       "372860001    31718\n",
       "610776002    30199\n",
       "759871002    26329\n",
       "             ...  \n",
       "520736002        1\n",
       "619777003        1\n",
       "586904003        1\n",
       "512385003        1\n",
       "533261032        1\n",
       "Name: article_id, Length: 104547, dtype: int64"
      ]
     },
     "execution_count": 16,
     "metadata": {},
     "output_type": "execute_result"
    }
   ],
   "source": [
    "article_count"
   ]
  },
  {
   "cell_type": "code",
   "execution_count": 17,
   "id": "c715ebc9-557a-4d5f-a4e5-680125d60669",
   "metadata": {},
   "outputs": [],
   "source": [
    "articles_with_rating = articles.merge(article_count, how='left', left_on='article_id', right_index=True).rename(columns={'article_id_x': 'article_id', 'article_id_y': 'rating'})\n",
    "articles_with_rating['rating'] = articles_with_rating['rating'].fillna(0)\n",
    "articles_with_rating = articles_with_rating.sort_values(by='rating', ascending=False)"
   ]
  },
  {
   "cell_type": "markdown",
   "id": "2dfaad32-da71-4165-99bf-9554db35cc1e",
   "metadata": {},
   "source": [
    "_P.S. Привет из будущего. Такой вариант рейтинга идеально соотвествует значениям из sample_submission. Так что прямо сейчас чуть улучшим алгоритм подсчета рейтинга_"
   ]
  },
  {
   "cell_type": "markdown",
   "id": "bad1337a-bbd1-4dae-8904-d581f9323e43",
   "metadata": {},
   "source": [
    "### Определим пол для каждого клиента\n",
    "\n",
    "Определять будем также на основе файла `transactions_train`"
   ]
  },
  {
   "cell_type": "code",
   "execution_count": 18,
   "id": "4a5631da-fa7f-4098-9816-e9c8bea0a5c5",
   "metadata": {},
   "outputs": [],
   "source": [
    "womens = articles['section_name'].str.contains('Women').map(lambda x: 'W' if x else np.NaN).dropna()\n",
    "girl = articles['section_name'].str.contains('Girl').map(lambda x: 'W' if x else np.NaN).dropna()\n",
    "mens = articles['section_name'].str.contains('Men').map(lambda x: 'M' if x else np.NaN).dropna()\n",
    "boy = articles['section_name'].str.contains('Boy').map(lambda x: 'M' if x else np.NaN).dropna()"
   ]
  },
  {
   "cell_type": "code",
   "execution_count": 19,
   "id": "dc81f928-9293-4a61-bf2a-c6b265a3ee53",
   "metadata": {},
   "outputs": [],
   "source": [
    "articles_with_gender = articles.copy()\n",
    "articles_with_gender['gender'] = pd.concat([womens, girl, mens, boy])"
   ]
  },
  {
   "cell_type": "code",
   "execution_count": 20,
   "id": "019fdd1a-5f0b-4cc5-bf2b-551d081d4348",
   "metadata": {},
   "outputs": [],
   "source": [
    "articles_with_gender['gender'] = articles_with_gender['gender'].fillna('Other')"
   ]
  },
  {
   "cell_type": "code",
   "execution_count": 21,
   "id": "3fddd536-8048-4d1c-ba2c-ca9b290ad5fd",
   "metadata": {},
   "outputs": [],
   "source": [
    "transactions_train_with_gender = transactions_train.merge(articles_with_gender[['article_id', 'gender']], on='article_id', how='left')"
   ]
  },
  {
   "cell_type": "code",
   "execution_count": 22,
   "id": "8ab65452-5f85-43ee-9727-9b26d267e07d",
   "metadata": {},
   "outputs": [],
   "source": [
    "# customers_with_gender = transactions_train_with_gender.groupby('customer_id')['gender'].apply(lambda x: x.describe().top)"
   ]
  },
  {
   "cell_type": "code",
   "execution_count": 23,
   "id": "3f4a6a7b-67f4-4ee8-8065-6f83396b2fca",
   "metadata": {},
   "outputs": [],
   "source": [
    "# customers_with_gender.to_csv('./data_prepared/customers.csv')"
   ]
  },
  {
   "cell_type": "code",
   "execution_count": 24,
   "id": "20d0bda9-654c-48cb-92cc-b480b133eed6",
   "metadata": {},
   "outputs": [],
   "source": [
    "customers_with_gender = pd.read_csv('./data_prepared/customers.csv')"
   ]
  },
  {
   "cell_type": "markdown",
   "id": "467925ac-ffa6-4a25-99fd-04b6f16f1d53",
   "metadata": {},
   "source": [
    "_P.S. Привет из будущего. Пол не помог улучшить предсказание покупок. Ну или криво вычленили пол из набора данных_. Попробуем тогда разделить пользователей на группы людей по возрасту."
   ]
  },
  {
   "cell_type": "markdown",
   "id": "ed9ee66b-c260-4049-8e5d-b00fd25277c4",
   "metadata": {
    "tags": []
   },
   "source": [
    "### Определим возрастные группы для каждого клиента\n",
    "\n",
    "Согласно классификации Всемирной организации здравоохранения возраст человека делится на несколько периодов:\n",
    "1. 0-44 - Молодой;\n",
    "2. 45-59 – Средний;\n",
    "3. 60-74 – Пожилой;\n",
    "4. 75-89 – Старческий;\n",
    "5. 90-100 - Долгожитель."
   ]
  },
  {
   "cell_type": "code",
   "execution_count": 41,
   "id": "c68718f9-4833-4113-bf64-a11e08f2fe3b",
   "metadata": {},
   "outputs": [],
   "source": [
    "young_index = customers[customers['age'] < 45].index\n",
    "medium_index = customers[(customers['age'] > 44) & (customers['age'] < 60)].index\n",
    "elderly_index = customers[(customers['age'] > 59) & (customers['age'] < 75)].index\n",
    "senile_index = customers[(customers['age'] > 74) & (customers['age'] < 90)].index\n",
    "long_live_index = customers[customers['age'] > 89].index"
   ]
  },
  {
   "cell_type": "code",
   "execution_count": 44,
   "id": "f50ed491-9749-41a6-98ef-ec26f6362180",
   "metadata": {},
   "outputs": [],
   "source": [
    "customers_with_age_group = customers.copy()"
   ]
  },
  {
   "cell_type": "code",
   "execution_count": 45,
   "id": "51446ec3-ee10-48d0-87f6-a2aea502bcfb",
   "metadata": {},
   "outputs": [],
   "source": [
    "customers_with_age_group['age_group'] = np.nan"
   ]
  },
  {
   "cell_type": "code",
   "execution_count": 48,
   "id": "74d523d6-a3f0-4743-a707-f824c3f04f64",
   "metadata": {},
   "outputs": [],
   "source": [
    "customers_with_age_group.loc[young_index, 'age_group'] = 'YOUNG'\n",
    "customers_with_age_group.loc[medium_index, 'age_group'] = 'MEDIUM'\n",
    "customers_with_age_group.loc[elderly_index, 'age_group'] = 'ELDERLY'\n",
    "customers_with_age_group.loc[senile_index, 'age_group'] = 'SENILE'\n",
    "customers_with_age_group.loc[long_live_index, 'age_group'] = 'LONG_LIVE'"
   ]
  },
  {
   "cell_type": "code",
   "execution_count": 49,
   "id": "6dadaacd-6226-4c99-87b8-00fb32c49719",
   "metadata": {},
   "outputs": [
    {
     "data": {
      "text/html": [
       "<div>\n",
       "<style scoped>\n",
       "    .dataframe tbody tr th:only-of-type {\n",
       "        vertical-align: middle;\n",
       "    }\n",
       "\n",
       "    .dataframe tbody tr th {\n",
       "        vertical-align: top;\n",
       "    }\n",
       "\n",
       "    .dataframe thead th {\n",
       "        text-align: right;\n",
       "    }\n",
       "</style>\n",
       "<table border=\"1\" class=\"dataframe\">\n",
       "  <thead>\n",
       "    <tr style=\"text-align: right;\">\n",
       "      <th></th>\n",
       "      <th>customer_id</th>\n",
       "      <th>FN</th>\n",
       "      <th>Active</th>\n",
       "      <th>club_member_status</th>\n",
       "      <th>fashion_news_frequency</th>\n",
       "      <th>age</th>\n",
       "      <th>postal_code</th>\n",
       "      <th>age_group</th>\n",
       "    </tr>\n",
       "  </thead>\n",
       "  <tbody>\n",
       "    <tr>\n",
       "      <th>0</th>\n",
       "      <td>00000dbacae5abe5e23885899a1fa44253a17956c6d1c3...</td>\n",
       "      <td>NaN</td>\n",
       "      <td>NaN</td>\n",
       "      <td>ACTIVE</td>\n",
       "      <td>NONE</td>\n",
       "      <td>49.0</td>\n",
       "      <td>52043ee2162cf5aa7ee79974281641c6f11a68d276429a...</td>\n",
       "      <td>MEDIUM</td>\n",
       "    </tr>\n",
       "    <tr>\n",
       "      <th>1</th>\n",
       "      <td>0000423b00ade91418cceaf3b26c6af3dd342b51fd051e...</td>\n",
       "      <td>NaN</td>\n",
       "      <td>NaN</td>\n",
       "      <td>ACTIVE</td>\n",
       "      <td>NONE</td>\n",
       "      <td>25.0</td>\n",
       "      <td>2973abc54daa8a5f8ccfe9362140c63247c5eee03f1d93...</td>\n",
       "      <td>YOUNG</td>\n",
       "    </tr>\n",
       "    <tr>\n",
       "      <th>2</th>\n",
       "      <td>000058a12d5b43e67d225668fa1f8d618c13dc232df0ca...</td>\n",
       "      <td>NaN</td>\n",
       "      <td>NaN</td>\n",
       "      <td>ACTIVE</td>\n",
       "      <td>NONE</td>\n",
       "      <td>24.0</td>\n",
       "      <td>64f17e6a330a85798e4998f62d0930d14db8db1c054af6...</td>\n",
       "      <td>YOUNG</td>\n",
       "    </tr>\n",
       "    <tr>\n",
       "      <th>3</th>\n",
       "      <td>00005ca1c9ed5f5146b52ac8639a40ca9d57aeff4d1bd2...</td>\n",
       "      <td>NaN</td>\n",
       "      <td>NaN</td>\n",
       "      <td>ACTIVE</td>\n",
       "      <td>NONE</td>\n",
       "      <td>54.0</td>\n",
       "      <td>5d36574f52495e81f019b680c843c443bd343d5ca5b1c2...</td>\n",
       "      <td>MEDIUM</td>\n",
       "    </tr>\n",
       "    <tr>\n",
       "      <th>4</th>\n",
       "      <td>00006413d8573cd20ed7128e53b7b13819fe5cfc2d801f...</td>\n",
       "      <td>1.0</td>\n",
       "      <td>1.0</td>\n",
       "      <td>ACTIVE</td>\n",
       "      <td>Regularly</td>\n",
       "      <td>52.0</td>\n",
       "      <td>25fa5ddee9aac01b35208d01736e57942317d756b32ddd...</td>\n",
       "      <td>MEDIUM</td>\n",
       "    </tr>\n",
       "    <tr>\n",
       "      <th>...</th>\n",
       "      <td>...</td>\n",
       "      <td>...</td>\n",
       "      <td>...</td>\n",
       "      <td>...</td>\n",
       "      <td>...</td>\n",
       "      <td>...</td>\n",
       "      <td>...</td>\n",
       "      <td>...</td>\n",
       "    </tr>\n",
       "    <tr>\n",
       "      <th>1371975</th>\n",
       "      <td>ffffbbf78b6eaac697a8a5dfbfd2bfa8113ee5b403e474...</td>\n",
       "      <td>NaN</td>\n",
       "      <td>NaN</td>\n",
       "      <td>ACTIVE</td>\n",
       "      <td>NONE</td>\n",
       "      <td>24.0</td>\n",
       "      <td>7aa399f7e669990daba2d92c577b52237380662f36480b...</td>\n",
       "      <td>YOUNG</td>\n",
       "    </tr>\n",
       "    <tr>\n",
       "      <th>1371976</th>\n",
       "      <td>ffffcd5046a6143d29a04fb8c424ce494a76e5cdf4fab5...</td>\n",
       "      <td>NaN</td>\n",
       "      <td>NaN</td>\n",
       "      <td>ACTIVE</td>\n",
       "      <td>NONE</td>\n",
       "      <td>21.0</td>\n",
       "      <td>3f47f1279beb72215f4de557d950e0bfa73789d24acb5e...</td>\n",
       "      <td>YOUNG</td>\n",
       "    </tr>\n",
       "    <tr>\n",
       "      <th>1371977</th>\n",
       "      <td>ffffcf35913a0bee60e8741cb2b4e78b8a98ee5ff2e6a1...</td>\n",
       "      <td>1.0</td>\n",
       "      <td>1.0</td>\n",
       "      <td>ACTIVE</td>\n",
       "      <td>Regularly</td>\n",
       "      <td>21.0</td>\n",
       "      <td>4563fc79215672cd6a863f2b4bf56b8f898f2d96ed590e...</td>\n",
       "      <td>YOUNG</td>\n",
       "    </tr>\n",
       "    <tr>\n",
       "      <th>1371978</th>\n",
       "      <td>ffffd7744cebcf3aca44ae7049d2a94b87074c3d4ffe38...</td>\n",
       "      <td>1.0</td>\n",
       "      <td>1.0</td>\n",
       "      <td>ACTIVE</td>\n",
       "      <td>Regularly</td>\n",
       "      <td>18.0</td>\n",
       "      <td>8892c18e9bc3dca6aa4000cb8094fc4b51ee8db2ed14d7...</td>\n",
       "      <td>YOUNG</td>\n",
       "    </tr>\n",
       "    <tr>\n",
       "      <th>1371979</th>\n",
       "      <td>ffffd9ac14e89946416d80e791d064701994755c3ab686...</td>\n",
       "      <td>NaN</td>\n",
       "      <td>NaN</td>\n",
       "      <td>PRE-CREATE</td>\n",
       "      <td>NONE</td>\n",
       "      <td>65.0</td>\n",
       "      <td>0a1a03306fb2f62164c2a439b38c0caa64b40deaae8687...</td>\n",
       "      <td>ELDERLY</td>\n",
       "    </tr>\n",
       "  </tbody>\n",
       "</table>\n",
       "<p>1371980 rows × 8 columns</p>\n",
       "</div>"
      ],
      "text/plain": [
       "                                               customer_id   FN  Active  \\\n",
       "0        00000dbacae5abe5e23885899a1fa44253a17956c6d1c3...  NaN     NaN   \n",
       "1        0000423b00ade91418cceaf3b26c6af3dd342b51fd051e...  NaN     NaN   \n",
       "2        000058a12d5b43e67d225668fa1f8d618c13dc232df0ca...  NaN     NaN   \n",
       "3        00005ca1c9ed5f5146b52ac8639a40ca9d57aeff4d1bd2...  NaN     NaN   \n",
       "4        00006413d8573cd20ed7128e53b7b13819fe5cfc2d801f...  1.0     1.0   \n",
       "...                                                    ...  ...     ...   \n",
       "1371975  ffffbbf78b6eaac697a8a5dfbfd2bfa8113ee5b403e474...  NaN     NaN   \n",
       "1371976  ffffcd5046a6143d29a04fb8c424ce494a76e5cdf4fab5...  NaN     NaN   \n",
       "1371977  ffffcf35913a0bee60e8741cb2b4e78b8a98ee5ff2e6a1...  1.0     1.0   \n",
       "1371978  ffffd7744cebcf3aca44ae7049d2a94b87074c3d4ffe38...  1.0     1.0   \n",
       "1371979  ffffd9ac14e89946416d80e791d064701994755c3ab686...  NaN     NaN   \n",
       "\n",
       "        club_member_status fashion_news_frequency   age  \\\n",
       "0                   ACTIVE                   NONE  49.0   \n",
       "1                   ACTIVE                   NONE  25.0   \n",
       "2                   ACTIVE                   NONE  24.0   \n",
       "3                   ACTIVE                   NONE  54.0   \n",
       "4                   ACTIVE              Regularly  52.0   \n",
       "...                    ...                    ...   ...   \n",
       "1371975             ACTIVE                   NONE  24.0   \n",
       "1371976             ACTIVE                   NONE  21.0   \n",
       "1371977             ACTIVE              Regularly  21.0   \n",
       "1371978             ACTIVE              Regularly  18.0   \n",
       "1371979         PRE-CREATE                   NONE  65.0   \n",
       "\n",
       "                                               postal_code age_group  \n",
       "0        52043ee2162cf5aa7ee79974281641c6f11a68d276429a...    MEDIUM  \n",
       "1        2973abc54daa8a5f8ccfe9362140c63247c5eee03f1d93...     YOUNG  \n",
       "2        64f17e6a330a85798e4998f62d0930d14db8db1c054af6...     YOUNG  \n",
       "3        5d36574f52495e81f019b680c843c443bd343d5ca5b1c2...    MEDIUM  \n",
       "4        25fa5ddee9aac01b35208d01736e57942317d756b32ddd...    MEDIUM  \n",
       "...                                                    ...       ...  \n",
       "1371975  7aa399f7e669990daba2d92c577b52237380662f36480b...     YOUNG  \n",
       "1371976  3f47f1279beb72215f4de557d950e0bfa73789d24acb5e...     YOUNG  \n",
       "1371977  4563fc79215672cd6a863f2b4bf56b8f898f2d96ed590e...     YOUNG  \n",
       "1371978  8892c18e9bc3dca6aa4000cb8094fc4b51ee8db2ed14d7...     YOUNG  \n",
       "1371979  0a1a03306fb2f62164c2a439b38c0caa64b40deaae8687...   ELDERLY  \n",
       "\n",
       "[1371980 rows x 8 columns]"
      ]
     },
     "execution_count": 49,
     "metadata": {},
     "output_type": "execute_result"
    }
   ],
   "source": [
    "customers_with_age_group"
   ]
  },
  {
   "cell_type": "code",
   "execution_count": 54,
   "id": "bc0a1561-807a-4904-8ace-486b8f5c0bd3",
   "metadata": {},
   "outputs": [],
   "source": [
    "# customers_with_age_group_gender = customers_with_age_group.merge(customers_with_gender['gender'], left_index=True, right_index=True, how='left')"
   ]
  },
  {
   "cell_type": "code",
   "execution_count": 55,
   "id": "5a72908c-d724-4f36-89bb-f8e66d766805",
   "metadata": {},
   "outputs": [],
   "source": [
    "# customers_with_age_group_gender.set_index('customer_id').to_csv('./data_prepared/customers.csv')"
   ]
  },
  {
   "cell_type": "code",
   "execution_count": 56,
   "id": "acc2c437-ad98-484d-8392-9e6b873986ff",
   "metadata": {},
   "outputs": [],
   "source": [
    "customers_with_age_group_gender = pd.read_csv('./data_prepared/customers.csv')"
   ]
  },
  {
   "cell_type": "code",
   "execution_count": 57,
   "id": "8617a3fa-81ee-4d48-90ae-6cbd125013ca",
   "metadata": {},
   "outputs": [
    {
     "data": {
      "text/plain": [
       "YOUNG        919502\n",
       "MEDIUM       344867\n",
       "ELDERLY       85766\n",
       "SENILE         5883\n",
       "LONG_LIVE       101\n",
       "Name: age_group, dtype: int64"
      ]
     },
     "execution_count": 57,
     "metadata": {},
     "output_type": "execute_result"
    }
   ],
   "source": [
    "customers_with_age_group_gender['age_group'].value_counts()"
   ]
  },
  {
   "cell_type": "markdown",
   "id": "6489c80f-c000-4e43-b53b-97d3fb5eab4a",
   "metadata": {
    "tags": []
   },
   "source": [
    "### Добавим цену для каждого товара\n",
    "\n",
    "Ценой будем считать среднее значение признака price для одного article_id из файла transactions_train "
   ]
  },
  {
   "cell_type": "code",
   "execution_count": 25,
   "id": "c0db08d4-5a45-4837-ad49-6a0157bed341",
   "metadata": {},
   "outputs": [],
   "source": [
    "prices = transactions_train.groupby('article_id')['price'].mean()\n",
    "articles_with_rating_price = articles_with_rating.merge(prices, how='left', left_on='article_id', right_index=True)\n",
    "articles_with_rating_price['price'] = articles_with_rating_price['price'].fillna(articles_with_rating_price['price'].mean())\n",
    "\n",
    "articles_with_rating_price = articles_with_rating_price.merge(articles_with_gender['gender'], left_index=True, right_index=True, how='left')"
   ]
  },
  {
   "cell_type": "markdown",
   "id": "c527c7b1-3fd4-409f-b3d7-799e14029260",
   "metadata": {},
   "source": [
    "Посмотрим на корреляцию"
   ]
  },
  {
   "cell_type": "code",
   "execution_count": 26,
   "id": "41fdbe80-209b-4d36-8bf1-b38b36cb4d9f",
   "metadata": {},
   "outputs": [
    {
     "data": {
      "text/plain": [
       "<AxesSubplot:>"
      ]
     },
     "execution_count": 26,
     "metadata": {},
     "output_type": "execute_result"
    },
    {
     "data": {
      "image/png": "[encoded data removed]",
      "text/plain": [
       "<Figure size 640x480 with 2 Axes>"
      ]
     },
     "metadata": {},
     "output_type": "display_data"
    }
   ],
   "source": [
    "corr = articles_with_rating_price.corr()\n",
    "sns.heatmap(corr, xticklabels=corr.columns.values, yticklabels=corr.columns.values)"
   ]
  },
  {
   "cell_type": "code",
   "execution_count": 27,
   "id": "6e874361-6199-448e-ba53-3b1fafbe5b6b",
   "metadata": {},
   "outputs": [],
   "source": [
    "#  Глянем только на те товары, которые покупали. Иначе не интересно\n",
    "top_articles = articles_with_rating_price[articles_with_rating_price['rating'] > 0][:5]\n",
    "worst_products = articles_with_rating_price[articles_with_rating_price['rating'] > 0][-5:]"
   ]
  },
  {
   "cell_type": "code",
   "execution_count": 28,
   "id": "fba75047-3d15-4a15-8433-9b7cdeb9516f",
   "metadata": {},
   "outputs": [
    {
     "data": {
      "text/html": [
       "<div>\n",
       "<style scoped>\n",
       "    .dataframe tbody tr th:only-of-type {\n",
       "        vertical-align: middle;\n",
       "    }\n",
       "\n",
       "    .dataframe tbody tr th {\n",
       "        vertical-align: top;\n",
       "    }\n",
       "\n",
       "    .dataframe thead th {\n",
       "        text-align: right;\n",
       "    }\n",
       "</style>\n",
       "<table border=\"1\" class=\"dataframe\">\n",
       "  <thead>\n",
       "    <tr style=\"text-align: right;\">\n",
       "      <th></th>\n",
       "      <th>product_type_name</th>\n",
       "      <th>rating</th>\n",
       "      <th>price</th>\n",
       "    </tr>\n",
       "  </thead>\n",
       "  <tbody>\n",
       "    <tr>\n",
       "      <th>53892</th>\n",
       "      <td>Trousers</td>\n",
       "      <td>50287.0</td>\n",
       "      <td>0.032448</td>\n",
       "    </tr>\n",
       "    <tr>\n",
       "      <th>53893</th>\n",
       "      <td>Trousers</td>\n",
       "      <td>35043.0</td>\n",
       "      <td>0.032426</td>\n",
       "    </tr>\n",
       "    <tr>\n",
       "      <th>1713</th>\n",
       "      <td>Socks</td>\n",
       "      <td>31718.0</td>\n",
       "      <td>0.012958</td>\n",
       "    </tr>\n",
       "    <tr>\n",
       "      <th>24837</th>\n",
       "      <td>T-shirt</td>\n",
       "      <td>30199.0</td>\n",
       "      <td>0.008083</td>\n",
       "    </tr>\n",
       "    <tr>\n",
       "      <th>70221</th>\n",
       "      <td>Vest top</td>\n",
       "      <td>26329.0</td>\n",
       "      <td>0.005605</td>\n",
       "    </tr>\n",
       "  </tbody>\n",
       "</table>\n",
       "</div>"
      ],
      "text/plain": [
       "      product_type_name   rating     price\n",
       "53892          Trousers  50287.0  0.032448\n",
       "53893          Trousers  35043.0  0.032426\n",
       "1713              Socks  31718.0  0.012958\n",
       "24837           T-shirt  30199.0  0.008083\n",
       "70221          Vest top  26329.0  0.005605"
      ]
     },
     "execution_count": 28,
     "metadata": {},
     "output_type": "execute_result"
    }
   ],
   "source": [
    "top_articles[['product_type_name', 'rating', 'price']]"
   ]
  },
  {
   "cell_type": "code",
   "execution_count": 29,
   "id": "5205c9a4-1a8e-45e4-ac16-76f8f2e75370",
   "metadata": {},
   "outputs": [
    {
     "data": {
      "text/html": [
       "<div>\n",
       "<style scoped>\n",
       "    .dataframe tbody tr th:only-of-type {\n",
       "        vertical-align: middle;\n",
       "    }\n",
       "\n",
       "    .dataframe tbody tr th {\n",
       "        vertical-align: top;\n",
       "    }\n",
       "\n",
       "    .dataframe thead th {\n",
       "        text-align: right;\n",
       "    }\n",
       "</style>\n",
       "<table border=\"1\" class=\"dataframe\">\n",
       "  <thead>\n",
       "    <tr style=\"text-align: right;\">\n",
       "      <th></th>\n",
       "      <th>product_type_name</th>\n",
       "      <th>rating</th>\n",
       "      <th>price</th>\n",
       "    </tr>\n",
       "  </thead>\n",
       "  <tbody>\n",
       "    <tr>\n",
       "      <th>6564</th>\n",
       "      <td>Leggings/Tights</td>\n",
       "      <td>1.0</td>\n",
       "      <td>0.004559</td>\n",
       "    </tr>\n",
       "    <tr>\n",
       "      <th>100710</th>\n",
       "      <td>Garment Set</td>\n",
       "      <td>1.0</td>\n",
       "      <td>0.033881</td>\n",
       "    </tr>\n",
       "    <tr>\n",
       "      <th>12414</th>\n",
       "      <td>T-shirt</td>\n",
       "      <td>1.0</td>\n",
       "      <td>0.022017</td>\n",
       "    </tr>\n",
       "    <tr>\n",
       "      <th>95015</th>\n",
       "      <td>Garment Set</td>\n",
       "      <td>1.0</td>\n",
       "      <td>0.046407</td>\n",
       "    </tr>\n",
       "    <tr>\n",
       "      <th>5939</th>\n",
       "      <td>Trousers</td>\n",
       "      <td>1.0</td>\n",
       "      <td>0.047441</td>\n",
       "    </tr>\n",
       "  </tbody>\n",
       "</table>\n",
       "</div>"
      ],
      "text/plain": [
       "       product_type_name  rating     price\n",
       "6564     Leggings/Tights     1.0  0.004559\n",
       "100710       Garment Set     1.0  0.033881\n",
       "12414            T-shirt     1.0  0.022017\n",
       "95015        Garment Set     1.0  0.046407\n",
       "5939            Trousers     1.0  0.047441"
      ]
     },
     "execution_count": 29,
     "metadata": {},
     "output_type": "execute_result"
    }
   ],
   "source": [
    "worst_products[['product_type_name', 'rating', 'price']]"
   ]
  },
  {
   "cell_type": "markdown",
   "id": "bc670e4a-cc9c-4833-8c68-3e6371aa5e84",
   "metadata": {},
   "source": [
    "__Вывод__\n",
    "\n",
    "Самые популряные товары представляют из себя:\n",
    "1. Штаны;\n",
    "2. Носки;\n",
    "3. Футболки;\n",
    "4. Безрукавки.\n",
    "\n",
    "Самые __не__ популярные товары (рейтинг != 0):\n",
    "1. Леггинсы/Колготки;\n",
    "2. Комплект одежды;\n",
    "3. Футболки.\n",
    "\n",
    "Самые __не__ популярные товары (рейтинг = 0):\n",
    "1. Футболки;\n",
    "2. Боди;\n",
    "3. Свитер;\n",
    "4. Платье.\n",
    "\n",
    "Линейной зависимости рейтинга с другими признаками не обнаружено. Даже с ценой."
   ]
  },
  {
   "cell_type": "markdown",
   "id": "e4147293-77cc-4dbd-b7a7-c2a76c423645",
   "metadata": {},
   "source": [
    "Сохраним articles_with_rating_price в папку data_prepared для последущей работы с этим файлом"
   ]
  },
  {
   "cell_type": "code",
   "execution_count": 30,
   "id": "5d2ceb1f-f13e-4551-9152-cbed7032587a",
   "metadata": {},
   "outputs": [],
   "source": [
    "articles_with_rating_price.set_index('article_id').to_csv('./data_prepared/articles.csv')"
   ]
  }
 ],
 "metadata": {
  "kernelspec": {
   "display_name": "Python 3 (ipykernel)",
   "language": "python",
   "name": "python3"
  },
  "language_info": {
   "codemirror_mode": {
    "name": "ipython",
    "version": 3
   },
   "file_extension": ".py",
   "mimetype": "text/x-python",
   "name": "python",
   "nbconvert_exporter": "python",
   "pygments_lexer": "ipython3",
   "version": "3.10.6"
  }
 },
 "nbformat": 4,
 "nbformat_minor": 5
}
