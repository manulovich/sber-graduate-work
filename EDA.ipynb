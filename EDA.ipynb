{
 "cells": [
  {
   "cell_type": "markdown",
   "id": "b313cf2a-1c1f-4779-9c7a-7a8b1c0361a0",
   "metadata": {},
   "source": [
    "# Первичный анализ данных (В разработке)"
   ]
  },
  {
   "cell_type": "markdown",
   "id": "3179c569-1d2e-48fd-8964-fdf952a64b26",
   "metadata": {},
   "source": [
    "## Библиотеки"
   ]
  },
  {
   "cell_type": "code",
   "execution_count": 1,
   "id": "05505b83-9e5e-4af4-879e-57d839bf1be6",
   "metadata": {},
   "outputs": [],
   "source": [
    "import pandas as pd\n",
    "from utils import HM"
   ]
  },
  {
   "cell_type": "markdown",
   "id": "1e2fe915-3c00-4957-9be1-bbe5347c5e58",
   "metadata": {},
   "source": [
    "## Загрузка данных"
   ]
  },
  {
   "cell_type": "code",
   "execution_count": 2,
   "id": "0341e8bc-6900-4eb1-a1cd-f6c5486dbb64",
   "metadata": {},
   "outputs": [],
   "source": [
    "hm = HM()\n",
    "\n",
    "articles = hm.get_articles(is_prepared=True)\n",
    "customers = hm.get_customers(is_prepared=True)\n",
    "sample_submission = hm.get_sample_submission(is_prepared=True)\n",
    "transactions_train = hm.get_transactions_train(is_prepared=True)"
   ]
  },
  {
   "cell_type": "markdown",
   "id": "8298f0f6-19fa-45a2-a963-b929c1f5f9d3",
   "metadata": {
    "tags": []
   },
   "source": [
    "## Осмотр каждого файла датасета"
   ]
  },
  {
   "cell_type": "markdown",
   "id": "fb01ca94-f442-4fb2-b419-fdcf16c1f61d",
   "metadata": {},
   "source": [
    "### Articles - Данные о товаре"
   ]
  },
  {
   "cell_type": "code",
   "execution_count": 3,
   "id": "9b8e4520-020a-4ac4-8677-b927ea5692e7",
   "metadata": {},
   "outputs": [
    {
     "data": {
      "text/html": [
       "<div>\n",
       "<style scoped>\n",
       "    .dataframe tbody tr th:only-of-type {\n",
       "        vertical-align: middle;\n",
       "    }\n",
       "\n",
       "    .dataframe tbody tr th {\n",
       "        vertical-align: top;\n",
       "    }\n",
       "\n",
       "    .dataframe thead th {\n",
       "        text-align: right;\n",
       "    }\n",
       "</style>\n",
       "<table border=\"1\" class=\"dataframe\">\n",
       "  <thead>\n",
       "    <tr style=\"text-align: right;\">\n",
       "      <th></th>\n",
       "      <th>article_id</th>\n",
       "      <th>product_code</th>\n",
       "      <th>prod_name</th>\n",
       "      <th>product_type_no</th>\n",
       "      <th>product_type_name</th>\n",
       "      <th>product_group_name</th>\n",
       "      <th>graphical_appearance_no</th>\n",
       "      <th>graphical_appearance_name</th>\n",
       "      <th>colour_group_code</th>\n",
       "      <th>colour_group_name</th>\n",
       "      <th>...</th>\n",
       "      <th>department_name</th>\n",
       "      <th>index_code</th>\n",
       "      <th>index_name</th>\n",
       "      <th>index_group_no</th>\n",
       "      <th>index_group_name</th>\n",
       "      <th>section_no</th>\n",
       "      <th>section_name</th>\n",
       "      <th>garment_group_no</th>\n",
       "      <th>garment_group_name</th>\n",
       "      <th>detail_desc</th>\n",
       "    </tr>\n",
       "  </thead>\n",
       "  <tbody>\n",
       "    <tr>\n",
       "      <th>0</th>\n",
       "      <td>108775015</td>\n",
       "      <td>108775</td>\n",
       "      <td>Strap top</td>\n",
       "      <td>253</td>\n",
       "      <td>Vest top</td>\n",
       "      <td>Garment Upper body</td>\n",
       "      <td>1010016</td>\n",
       "      <td>Solid</td>\n",
       "      <td>9</td>\n",
       "      <td>Black</td>\n",
       "      <td>...</td>\n",
       "      <td>Jersey Basic</td>\n",
       "      <td>A</td>\n",
       "      <td>Ladieswear</td>\n",
       "      <td>1</td>\n",
       "      <td>Ladieswear</td>\n",
       "      <td>16</td>\n",
       "      <td>Womens Everyday Basics</td>\n",
       "      <td>1002</td>\n",
       "      <td>Jersey Basic</td>\n",
       "      <td>Jersey top with narrow shoulder straps.</td>\n",
       "    </tr>\n",
       "  </tbody>\n",
       "</table>\n",
       "<p>1 rows × 25 columns</p>\n",
       "</div>"
      ],
      "text/plain": [
       "   article_id  product_code  prod_name  product_type_no product_type_name  \\\n",
       "0   108775015        108775  Strap top              253          Vest top   \n",
       "\n",
       "   product_group_name  graphical_appearance_no graphical_appearance_name  \\\n",
       "0  Garment Upper body                  1010016                     Solid   \n",
       "\n",
       "   colour_group_code colour_group_name  ...  department_name index_code  \\\n",
       "0                  9             Black  ...     Jersey Basic          A   \n",
       "\n",
       "   index_name index_group_no  index_group_name section_no  \\\n",
       "0  Ladieswear              1        Ladieswear         16   \n",
       "\n",
       "             section_name garment_group_no  garment_group_name  \\\n",
       "0  Womens Everyday Basics             1002        Jersey Basic   \n",
       "\n",
       "                               detail_desc  \n",
       "0  Jersey top with narrow shoulder straps.  \n",
       "\n",
       "[1 rows x 25 columns]"
      ]
     },
     "execution_count": 3,
     "metadata": {},
     "output_type": "execute_result"
    }
   ],
   "source": [
    "articles.head(1)"
   ]
  },
  {
   "cell_type": "code",
   "execution_count": 4,
   "id": "c26f23df-4557-4278-a869-57bc63a5eafa",
   "metadata": {},
   "outputs": [
    {
     "data": {
      "text/plain": [
       "(105542, 25)"
      ]
     },
     "execution_count": 4,
     "metadata": {},
     "output_type": "execute_result"
    }
   ],
   "source": [
    "articles.shape"
   ]
  },
  {
   "cell_type": "markdown",
   "id": "a3c3128e-eab6-4ba1-927d-98476b4975d4",
   "metadata": {},
   "source": [
    "### Customers\n",
    "\n",
    "Данные о клиенте"
   ]
  },
  {
   "cell_type": "code",
   "execution_count": 5,
   "id": "74e0b4e6-d9c7-4d8f-a213-fd970d6b8777",
   "metadata": {},
   "outputs": [
    {
     "data": {
      "text/html": [
       "<div>\n",
       "<style scoped>\n",
       "    .dataframe tbody tr th:only-of-type {\n",
       "        vertical-align: middle;\n",
       "    }\n",
       "\n",
       "    .dataframe tbody tr th {\n",
       "        vertical-align: top;\n",
       "    }\n",
       "\n",
       "    .dataframe thead th {\n",
       "        text-align: right;\n",
       "    }\n",
       "</style>\n",
       "<table border=\"1\" class=\"dataframe\">\n",
       "  <thead>\n",
       "    <tr style=\"text-align: right;\">\n",
       "      <th></th>\n",
       "      <th>customer_id</th>\n",
       "      <th>FN</th>\n",
       "      <th>Active</th>\n",
       "      <th>club_member_status</th>\n",
       "      <th>fashion_news_frequency</th>\n",
       "      <th>age</th>\n",
       "      <th>postal_code</th>\n",
       "    </tr>\n",
       "  </thead>\n",
       "  <tbody>\n",
       "    <tr>\n",
       "      <th>0</th>\n",
       "      <td>00000dbacae5abe5e23885899a1fa44253a17956c6d1c3...</td>\n",
       "      <td>NaN</td>\n",
       "      <td>NaN</td>\n",
       "      <td>ACTIVE</td>\n",
       "      <td>NONE</td>\n",
       "      <td>49.0</td>\n",
       "      <td>52043ee2162cf5aa7ee79974281641c6f11a68d276429a...</td>\n",
       "    </tr>\n",
       "  </tbody>\n",
       "</table>\n",
       "</div>"
      ],
      "text/plain": [
       "                                         customer_id  FN  Active  \\\n",
       "0  00000dbacae5abe5e23885899a1fa44253a17956c6d1c3... NaN     NaN   \n",
       "\n",
       "  club_member_status fashion_news_frequency   age  \\\n",
       "0             ACTIVE                   NONE  49.0   \n",
       "\n",
       "                                         postal_code  \n",
       "0  52043ee2162cf5aa7ee79974281641c6f11a68d276429a...  "
      ]
     },
     "execution_count": 5,
     "metadata": {},
     "output_type": "execute_result"
    }
   ],
   "source": [
    "customers.head(1)"
   ]
  },
  {
   "cell_type": "code",
   "execution_count": 6,
   "id": "9dc362e4-0190-45a8-8680-1c00c9bcafd4",
   "metadata": {},
   "outputs": [
    {
     "data": {
      "text/plain": [
       "(1371980, 7)"
      ]
     },
     "execution_count": 6,
     "metadata": {},
     "output_type": "execute_result"
    }
   ],
   "source": [
    "customers.shape"
   ]
  },
  {
   "cell_type": "markdown",
   "id": "b1b7f4a1-a7fb-427a-b2b4-8e9541272cb3",
   "metadata": {},
   "source": [
    "### Sample_submission\n",
    "\n",
    "Пример решения"
   ]
  },
  {
   "cell_type": "code",
   "execution_count": 7,
   "id": "3ae82ac8-bcb6-4a32-80b9-97a7a6a2c2e0",
   "metadata": {},
   "outputs": [
    {
     "data": {
      "text/html": [
       "<div>\n",
       "<style scoped>\n",
       "    .dataframe tbody tr th:only-of-type {\n",
       "        vertical-align: middle;\n",
       "    }\n",
       "\n",
       "    .dataframe tbody tr th {\n",
       "        vertical-align: top;\n",
       "    }\n",
       "\n",
       "    .dataframe thead th {\n",
       "        text-align: right;\n",
       "    }\n",
       "</style>\n",
       "<table border=\"1\" class=\"dataframe\">\n",
       "  <thead>\n",
       "    <tr style=\"text-align: right;\">\n",
       "      <th></th>\n",
       "      <th>customer_id</th>\n",
       "      <th>prediction</th>\n",
       "    </tr>\n",
       "  </thead>\n",
       "  <tbody>\n",
       "    <tr>\n",
       "      <th>0</th>\n",
       "      <td>00000dbacae5abe5e23885899a1fa44253a17956c6d1c3...</td>\n",
       "      <td>0706016001 0706016002 0372860001 0610776002 07...</td>\n",
       "    </tr>\n",
       "  </tbody>\n",
       "</table>\n",
       "</div>"
      ],
      "text/plain": [
       "                                         customer_id  \\\n",
       "0  00000dbacae5abe5e23885899a1fa44253a17956c6d1c3...   \n",
       "\n",
       "                                          prediction  \n",
       "0  0706016001 0706016002 0372860001 0610776002 07...  "
      ]
     },
     "execution_count": 7,
     "metadata": {},
     "output_type": "execute_result"
    }
   ],
   "source": [
    "sample_submission.head(1)"
   ]
  },
  {
   "cell_type": "code",
   "execution_count": 8,
   "id": "f1bf4f75-b308-43dc-8df7-b00fca265786",
   "metadata": {},
   "outputs": [
    {
     "data": {
      "text/plain": [
       "(1371980, 2)"
      ]
     },
     "execution_count": 8,
     "metadata": {},
     "output_type": "execute_result"
    }
   ],
   "source": [
    "sample_submission.shape"
   ]
  },
  {
   "cell_type": "markdown",
   "id": "48e77aee-cc47-468b-aa56-cd075c209554",
   "metadata": {},
   "source": [
    "### Transactions_train\n",
    "\n",
    "Обучающие данные"
   ]
  },
  {
   "cell_type": "code",
   "execution_count": 9,
   "id": "2982527b-01c4-4ab4-bb55-6bcfbdc70af8",
   "metadata": {},
   "outputs": [
    {
     "data": {
      "text/html": [
       "<div>\n",
       "<style scoped>\n",
       "    .dataframe tbody tr th:only-of-type {\n",
       "        vertical-align: middle;\n",
       "    }\n",
       "\n",
       "    .dataframe tbody tr th {\n",
       "        vertical-align: top;\n",
       "    }\n",
       "\n",
       "    .dataframe thead th {\n",
       "        text-align: right;\n",
       "    }\n",
       "</style>\n",
       "<table border=\"1\" class=\"dataframe\">\n",
       "  <thead>\n",
       "    <tr style=\"text-align: right;\">\n",
       "      <th></th>\n",
       "      <th>t_dat</th>\n",
       "      <th>customer_id</th>\n",
       "      <th>article_id</th>\n",
       "      <th>price</th>\n",
       "      <th>sales_channel_id</th>\n",
       "    </tr>\n",
       "  </thead>\n",
       "  <tbody>\n",
       "    <tr>\n",
       "      <th>0</th>\n",
       "      <td>2018-09-20</td>\n",
       "      <td>000058a12d5b43e67d225668fa1f8d618c13dc232df0ca...</td>\n",
       "      <td>663713001</td>\n",
       "      <td>0.050831</td>\n",
       "      <td>2</td>\n",
       "    </tr>\n",
       "  </tbody>\n",
       "</table>\n",
       "</div>"
      ],
      "text/plain": [
       "        t_dat                                        customer_id  article_id  \\\n",
       "0  2018-09-20  000058a12d5b43e67d225668fa1f8d618c13dc232df0ca...   663713001   \n",
       "\n",
       "      price  sales_channel_id  \n",
       "0  0.050831                 2  "
      ]
     },
     "execution_count": 9,
     "metadata": {},
     "output_type": "execute_result"
    }
   ],
   "source": [
    "transactions_train.head(1)"
   ]
  },
  {
   "cell_type": "code",
   "execution_count": 10,
   "id": "e60a84fd-25a0-4771-8254-d7bed27270bc",
   "metadata": {},
   "outputs": [
    {
     "data": {
      "text/plain": [
       "(31788324, 5)"
      ]
     },
     "execution_count": 10,
     "metadata": {},
     "output_type": "execute_result"
    }
   ],
   "source": [
    "transactions_train.shape"
   ]
  },
  {
   "cell_type": "markdown",
   "id": "a9ed5ca5-30ea-488f-a55a-77019757baee",
   "metadata": {},
   "source": [
    "## Пристально рассмотрим обучающие данные"
   ]
  },
  {
   "cell_type": "markdown",
   "id": "bdf485ab-3d5d-4afe-92e8-c00eb65c2b8a",
   "metadata": {},
   "source": [
    "Глянем на транзакции одного из клиентов"
   ]
  },
  {
   "cell_type": "code",
   "execution_count": 11,
   "id": "bb111153-cbde-49c7-b3b0-df85f2b9ea44",
   "metadata": {},
   "outputs": [],
   "source": [
    "train_sample = transactions_train[transactions_train['customer_id'] == '000058a12d5b43e67d225668fa1f8d618c13dc232df0cad8ffe7ad4a1091e318']"
   ]
  },
  {
   "cell_type": "code",
   "execution_count": 12,
   "id": "fc746254-32fe-475e-9e7e-bfd1ab701800",
   "metadata": {},
   "outputs": [
    {
     "data": {
      "text/html": [
       "<div>\n",
       "<style scoped>\n",
       "    .dataframe tbody tr th:only-of-type {\n",
       "        vertical-align: middle;\n",
       "    }\n",
       "\n",
       "    .dataframe tbody tr th {\n",
       "        vertical-align: top;\n",
       "    }\n",
       "\n",
       "    .dataframe thead th {\n",
       "        text-align: right;\n",
       "    }\n",
       "</style>\n",
       "<table border=\"1\" class=\"dataframe\">\n",
       "  <thead>\n",
       "    <tr style=\"text-align: right;\">\n",
       "      <th></th>\n",
       "      <th>t_dat</th>\n",
       "      <th>customer_id</th>\n",
       "      <th>article_id</th>\n",
       "      <th>price</th>\n",
       "      <th>sales_channel_id</th>\n",
       "    </tr>\n",
       "  </thead>\n",
       "  <tbody>\n",
       "    <tr>\n",
       "      <th>0</th>\n",
       "      <td>2018-09-20</td>\n",
       "      <td>000058a12d5b43e67d225668fa1f8d618c13dc232df0ca...</td>\n",
       "      <td>663713001</td>\n",
       "      <td>0.050831</td>\n",
       "      <td>2</td>\n",
       "    </tr>\n",
       "    <tr>\n",
       "      <th>1</th>\n",
       "      <td>2018-09-20</td>\n",
       "      <td>000058a12d5b43e67d225668fa1f8d618c13dc232df0ca...</td>\n",
       "      <td>541518023</td>\n",
       "      <td>0.030492</td>\n",
       "      <td>2</td>\n",
       "    </tr>\n",
       "    <tr>\n",
       "      <th>165807</th>\n",
       "      <td>2018-09-24</td>\n",
       "      <td>000058a12d5b43e67d225668fa1f8d618c13dc232df0ca...</td>\n",
       "      <td>663713001</td>\n",
       "      <td>0.050831</td>\n",
       "      <td>2</td>\n",
       "    </tr>\n",
       "    <tr>\n",
       "      <th>6827145</th>\n",
       "      <td>2019-03-01</td>\n",
       "      <td>000058a12d5b43e67d225668fa1f8d618c13dc232df0ca...</td>\n",
       "      <td>578020002</td>\n",
       "      <td>0.013542</td>\n",
       "      <td>2</td>\n",
       "    </tr>\n",
       "    <tr>\n",
       "      <th>21953950</th>\n",
       "      <td>2020-02-03</td>\n",
       "      <td>000058a12d5b43e67d225668fa1f8d618c13dc232df0ca...</td>\n",
       "      <td>723529001</td>\n",
       "      <td>0.025407</td>\n",
       "      <td>2</td>\n",
       "    </tr>\n",
       "    <tr>\n",
       "      <th>21953951</th>\n",
       "      <td>2020-02-03</td>\n",
       "      <td>000058a12d5b43e67d225668fa1f8d618c13dc232df0ca...</td>\n",
       "      <td>351484002</td>\n",
       "      <td>0.022017</td>\n",
       "      <td>2</td>\n",
       "    </tr>\n",
       "    <tr>\n",
       "      <th>21953952</th>\n",
       "      <td>2020-02-03</td>\n",
       "      <td>000058a12d5b43e67d225668fa1f8d618c13dc232df0ca...</td>\n",
       "      <td>351484002</td>\n",
       "      <td>0.022017</td>\n",
       "      <td>2</td>\n",
       "    </tr>\n",
       "    <tr>\n",
       "      <th>23934157</th>\n",
       "      <td>2020-04-01</td>\n",
       "      <td>000058a12d5b43e67d225668fa1f8d618c13dc232df0ca...</td>\n",
       "      <td>727808001</td>\n",
       "      <td>0.067780</td>\n",
       "      <td>2</td>\n",
       "    </tr>\n",
       "    <tr>\n",
       "      <th>23934158</th>\n",
       "      <td>2020-04-01</td>\n",
       "      <td>000058a12d5b43e67d225668fa1f8d618c13dc232df0ca...</td>\n",
       "      <td>727808007</td>\n",
       "      <td>0.067780</td>\n",
       "      <td>2</td>\n",
       "    </tr>\n",
       "    <tr>\n",
       "      <th>24773518</th>\n",
       "      <td>2020-04-18</td>\n",
       "      <td>000058a12d5b43e67d225668fa1f8d618c13dc232df0ca...</td>\n",
       "      <td>858883002</td>\n",
       "      <td>0.030492</td>\n",
       "      <td>2</td>\n",
       "    </tr>\n",
       "    <tr>\n",
       "      <th>24773519</th>\n",
       "      <td>2020-04-18</td>\n",
       "      <td>000058a12d5b43e67d225668fa1f8d618c13dc232df0ca...</td>\n",
       "      <td>851400006</td>\n",
       "      <td>0.059305</td>\n",
       "      <td>2</td>\n",
       "    </tr>\n",
       "    <tr>\n",
       "      <th>24773520</th>\n",
       "      <td>2020-04-18</td>\n",
       "      <td>000058a12d5b43e67d225668fa1f8d618c13dc232df0ca...</td>\n",
       "      <td>750424014</td>\n",
       "      <td>0.042356</td>\n",
       "      <td>2</td>\n",
       "    </tr>\n",
       "    <tr>\n",
       "      <th>24773521</th>\n",
       "      <td>2020-04-18</td>\n",
       "      <td>000058a12d5b43e67d225668fa1f8d618c13dc232df0ca...</td>\n",
       "      <td>750424014</td>\n",
       "      <td>0.042356</td>\n",
       "      <td>2</td>\n",
       "    </tr>\n",
       "    <tr>\n",
       "      <th>24773522</th>\n",
       "      <td>2020-04-18</td>\n",
       "      <td>000058a12d5b43e67d225668fa1f8d618c13dc232df0ca...</td>\n",
       "      <td>870304002</td>\n",
       "      <td>0.033881</td>\n",
       "      <td>2</td>\n",
       "    </tr>\n",
       "    <tr>\n",
       "      <th>24773523</th>\n",
       "      <td>2020-04-18</td>\n",
       "      <td>000058a12d5b43e67d225668fa1f8d618c13dc232df0ca...</td>\n",
       "      <td>870304002</td>\n",
       "      <td>0.033881</td>\n",
       "      <td>2</td>\n",
       "    </tr>\n",
       "    <tr>\n",
       "      <th>24773524</th>\n",
       "      <td>2020-04-18</td>\n",
       "      <td>000058a12d5b43e67d225668fa1f8d618c13dc232df0ca...</td>\n",
       "      <td>852643001</td>\n",
       "      <td>0.025407</td>\n",
       "      <td>2</td>\n",
       "    </tr>\n",
       "    <tr>\n",
       "      <th>24773525</th>\n",
       "      <td>2020-04-18</td>\n",
       "      <td>000058a12d5b43e67d225668fa1f8d618c13dc232df0ca...</td>\n",
       "      <td>852643003</td>\n",
       "      <td>0.025407</td>\n",
       "      <td>2</td>\n",
       "    </tr>\n",
       "    <tr>\n",
       "      <th>31521960</th>\n",
       "      <td>2020-09-15</td>\n",
       "      <td>000058a12d5b43e67d225668fa1f8d618c13dc232df0ca...</td>\n",
       "      <td>794321007</td>\n",
       "      <td>0.061000</td>\n",
       "      <td>2</td>\n",
       "    </tr>\n",
       "  </tbody>\n",
       "</table>\n",
       "</div>"
      ],
      "text/plain": [
       "               t_dat                                        customer_id  \\\n",
       "0         2018-09-20  000058a12d5b43e67d225668fa1f8d618c13dc232df0ca...   \n",
       "1         2018-09-20  000058a12d5b43e67d225668fa1f8d618c13dc232df0ca...   \n",
       "165807    2018-09-24  000058a12d5b43e67d225668fa1f8d618c13dc232df0ca...   \n",
       "6827145   2019-03-01  000058a12d5b43e67d225668fa1f8d618c13dc232df0ca...   \n",
       "21953950  2020-02-03  000058a12d5b43e67d225668fa1f8d618c13dc232df0ca...   \n",
       "21953951  2020-02-03  000058a12d5b43e67d225668fa1f8d618c13dc232df0ca...   \n",
       "21953952  2020-02-03  000058a12d5b43e67d225668fa1f8d618c13dc232df0ca...   \n",
       "23934157  2020-04-01  000058a12d5b43e67d225668fa1f8d618c13dc232df0ca...   \n",
       "23934158  2020-04-01  000058a12d5b43e67d225668fa1f8d618c13dc232df0ca...   \n",
       "24773518  2020-04-18  000058a12d5b43e67d225668fa1f8d618c13dc232df0ca...   \n",
       "24773519  2020-04-18  000058a12d5b43e67d225668fa1f8d618c13dc232df0ca...   \n",
       "24773520  2020-04-18  000058a12d5b43e67d225668fa1f8d618c13dc232df0ca...   \n",
       "24773521  2020-04-18  000058a12d5b43e67d225668fa1f8d618c13dc232df0ca...   \n",
       "24773522  2020-04-18  000058a12d5b43e67d225668fa1f8d618c13dc232df0ca...   \n",
       "24773523  2020-04-18  000058a12d5b43e67d225668fa1f8d618c13dc232df0ca...   \n",
       "24773524  2020-04-18  000058a12d5b43e67d225668fa1f8d618c13dc232df0ca...   \n",
       "24773525  2020-04-18  000058a12d5b43e67d225668fa1f8d618c13dc232df0ca...   \n",
       "31521960  2020-09-15  000058a12d5b43e67d225668fa1f8d618c13dc232df0ca...   \n",
       "\n",
       "          article_id     price  sales_channel_id  \n",
       "0          663713001  0.050831                 2  \n",
       "1          541518023  0.030492                 2  \n",
       "165807     663713001  0.050831                 2  \n",
       "6827145    578020002  0.013542                 2  \n",
       "21953950   723529001  0.025407                 2  \n",
       "21953951   351484002  0.022017                 2  \n",
       "21953952   351484002  0.022017                 2  \n",
       "23934157   727808001  0.067780                 2  \n",
       "23934158   727808007  0.067780                 2  \n",
       "24773518   858883002  0.030492                 2  \n",
       "24773519   851400006  0.059305                 2  \n",
       "24773520   750424014  0.042356                 2  \n",
       "24773521   750424014  0.042356                 2  \n",
       "24773522   870304002  0.033881                 2  \n",
       "24773523   870304002  0.033881                 2  \n",
       "24773524   852643001  0.025407                 2  \n",
       "24773525   852643003  0.025407                 2  \n",
       "31521960   794321007  0.061000                 2  "
      ]
     },
     "execution_count": 12,
     "metadata": {},
     "output_type": "execute_result"
    }
   ],
   "source": [
    "train_sample"
   ]
  },
  {
   "cell_type": "markdown",
   "id": "2bf7f25c-8ed9-4ddf-931e-6a33a4612bb0",
   "metadata": {},
   "source": [
    "__Вывод__\n",
    "\n",
    "1. Клиент покупает товары в магазине не каждый месяц, при этом средняя стоимость покупок составляет 0.039154 у.е.\n",
    "2. Существует только один не уникальный купленный товар. 663713001 - Его купили 2 раза.\n",
    "\n",
    "Посмотрим на товар, купленный несколько раз."
   ]
  },
  {
   "cell_type": "code",
   "execution_count": 13,
   "id": "a9d08b0f-3b67-4823-99a6-fefa30d0724d",
   "metadata": {},
   "outputs": [
    {
     "data": {
      "text/plain": [
       "product_code                                                               663713\n",
       "prod_name                                                Atlanta Push Body Harlow\n",
       "product_type_no                                                               283\n",
       "product_type_name                                                  Underwear body\n",
       "product_group_name                                                      Underwear\n",
       "graphical_appearance_no                                                   1010016\n",
       "graphical_appearance_name                                                   Solid\n",
       "colour_group_code                                                               9\n",
       "colour_group_name                                                           Black\n",
       "perceived_colour_value_id                                                       4\n",
       "perceived_colour_value_name                                                  Dark\n",
       "perceived_colour_master_id                                                      5\n",
       "perceived_colour_master_name                                                Black\n",
       "department_no                                                                1338\n",
       "department_name                                               Expressive Lingerie\n",
       "index_code                                                                      B\n",
       "index_name                                                       Lingeries/Tights\n",
       "index_group_no                                                                  1\n",
       "index_group_name                                                       Ladieswear\n",
       "section_no                                                                     61\n",
       "section_name                                                      Womens Lingerie\n",
       "garment_group_no                                                             1017\n",
       "garment_group_name                                              Under-, Nightwear\n",
       "detail_desc                     Lace push-up body with underwired, moulded, pa...\n",
       "Name: 663713001, dtype: object"
      ]
     },
     "execution_count": 13,
     "metadata": {},
     "output_type": "execute_result"
    }
   ],
   "source": [
    "articles.set_index('article_id').loc[663713001]"
   ]
  },
  {
   "cell_type": "code",
   "execution_count": 14,
   "id": "8de23e80-9e1e-4887-b5eb-90c6ab5a2e45",
   "metadata": {},
   "outputs": [
    {
     "data": {
      "text/plain": [
       "FN                                                                      NaN\n",
       "Active                                                                  NaN\n",
       "club_member_status                                                   ACTIVE\n",
       "fashion_news_frequency                                                 NONE\n",
       "age                                                                    24.0\n",
       "postal_code               64f17e6a330a85798e4998f62d0930d14db8db1c054af6...\n",
       "Name: 000058a12d5b43e67d225668fa1f8d618c13dc232df0cad8ffe7ad4a1091e318, dtype: object"
      ]
     },
     "execution_count": 14,
     "metadata": {},
     "output_type": "execute_result"
    }
   ],
   "source": [
    "customers.set_index('customer_id').loc['000058a12d5b43e67d225668fa1f8d618c13dc232df0cad8ffe7ad4a1091e318']"
   ]
  },
  {
   "cell_type": "markdown",
   "id": "d76addb0-7bfc-44a1-b061-66d082c1fe17",
   "metadata": {},
   "source": [
    "Судя по купленной одежде - клиент является женщиной. И еще мы знаем, что ей 24 года."
   ]
  }
 ],
 "metadata": {
  "kernelspec": {
   "display_name": "Python 3 (ipykernel)",
   "language": "python",
   "name": "python3"
  },
  "language_info": {
   "codemirror_mode": {
    "name": "ipython",
    "version": 3
   },
   "file_extension": ".py",
   "mimetype": "text/x-python",
   "name": "python",
   "nbconvert_exporter": "python",
   "pygments_lexer": "ipython3",
   "version": "3.9.13"
  }
 },
 "nbformat": 4,
 "nbformat_minor": 5
}
