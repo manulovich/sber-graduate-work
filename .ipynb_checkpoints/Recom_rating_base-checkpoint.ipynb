{
 "cells": [
  {
   "cell_type": "markdown",
   "id": "7b2e968b-81c2-449a-9bab-dc684d16f06b",
   "metadata": {},
   "source": [
    "# Рекомендательная система на основе рейтинга товара"
   ]
  },
  {
   "cell_type": "markdown",
   "id": "b1b4b36e-420b-4e96-b230-cf455587382d",
   "metadata": {},
   "source": [
    "## Библиотеки"
   ]
  },
  {
   "cell_type": "code",
   "execution_count": 1,
   "id": "55d99746-6b1a-484a-8f11-350830348702",
   "metadata": {},
   "outputs": [],
   "source": [
    "import pandas as pd\n",
    "from utils import HM"
   ]
  },
  {
   "cell_type": "markdown",
   "id": "2b4a1e07-a023-44ea-a1fc-7d601d8b0be1",
   "metadata": {},
   "source": [
    "## Загрузка данных"
   ]
  },
  {
   "cell_type": "code",
   "execution_count": 2,
   "id": "e1da8905-e149-4aab-9c27-01f70be81bc9",
   "metadata": {},
   "outputs": [],
   "source": [
    "hm = HM()\n",
    "\n",
    "articles = hm.get_articles(is_prepared=True)\n",
    "customers = hm.get_customers()\n",
    "sample_submission = hm.get_sample_submission()\n",
    "transactions_train = hm.get_transactions_train()"
   ]
  },
  {
   "cell_type": "markdown",
   "id": "0928e7bf-caeb-418b-9a56-e4a3543cb902",
   "metadata": {},
   "source": [
    "## Константы"
   ]
  },
  {
   "cell_type": "code",
   "execution_count": 3,
   "id": "a13dc7ec-1144-414d-84c1-047a49491ff9",
   "metadata": {},
   "outputs": [],
   "source": [
    "count_articles = 12"
   ]
  },
  {
   "cell_type": "markdown",
   "id": "3a206859-4c7d-49cb-86c6-29f74a50af09",
   "metadata": {},
   "source": [
    "## Предсказание простое\n",
    "\n",
    "Возьмем `count_articles` самых популярных товаров и проставим для каждого пользователя"
   ]
  },
  {
   "cell_type": "code",
   "execution_count": 4,
   "id": "f5594ddc-c090-4efc-b957-9c77efc7af5c",
   "metadata": {},
   "outputs": [],
   "source": [
    "top_articles = articles[:count_articles]['article_id'].astype(str).map(lambda x: '0' + x)\n",
    "top_articles_in_str = ' '.join(top_articles)"
   ]
  },
  {
   "cell_type": "code",
   "execution_count": 5,
   "id": "5b302248-1865-49e4-8f13-01113e3a1335",
   "metadata": {},
   "outputs": [
    {
     "data": {
      "text/plain": [
       "'0706016001 0706016002 0372860001 0610776002 0759871002 0464297007 0372860002 0610776001 0399223001 0706016003 0720125001 0156231001'"
      ]
     },
     "execution_count": 5,
     "metadata": {},
     "output_type": "execute_result"
    }
   ],
   "source": [
    "top_articles_in_str"
   ]
  },
  {
   "cell_type": "code",
   "execution_count": 6,
   "id": "ea786ed1-ca56-4695-a8f8-69304814024c",
   "metadata": {},
   "outputs": [
    {
     "data": {
      "text/plain": [
       "'0706016001 0706016002 0372860001 0610776002 0759871002 0464297007 0372860002 0610776001 0399223001 0706016003 0720125001 0156231001'"
      ]
     },
     "execution_count": 6,
     "metadata": {},
     "output_type": "execute_result"
    }
   ],
   "source": [
    "sample_submission.iloc[0]['prediction']"
   ]
  },
  {
   "attachments": {
    "ce009103-ea22-480b-bb7a-7db067dbbbab.png": {
     "image/png": "[encoded data removed]"
    }
   },
   "cell_type": "markdown",
   "id": "c9a27d42-93d9-4feb-9a54-f98528acb47e",
   "metadata": {},
   "source": [
    "### Вывод\n",
    "\n",
    "sample_submission идеально соответсвует результату рекомендательной системе на основе простому рейтингу.\n",
    "\n",
    "А вот результат этого решения на Kaggle:\n",
    "\n",
    "![изображение.png](attachment:ce009103-ea22-480b-bb7a-7db067dbbbab.png)"
   ]
  },
  {
   "cell_type": "markdown",
   "id": "94063547-08dd-4c31-a7d0-022648467050",
   "metadata": {},
   "source": [
    "Вернемся обратно на [этап подготовки данных](./Data_preparation.ipynb) и определим пол для каждого клиента"
   ]
  },
  {
   "cell_type": "markdown",
   "id": "416f1464-6f86-4ce1-9905-ed170f72ccfe",
   "metadata": {},
   "source": [
    "## Предсказывание посложнее"
   ]
  },
  {
   "cell_type": "code",
   "execution_count": 58,
   "id": "e56a8099-7288-4fe6-9f15-153920f9d1b3",
   "metadata": {},
   "outputs": [],
   "source": [
    "def get_top_articles(df: pd.DataFrame, by: str, value: str, count: int):\n",
    "    return df[df[by] == value].sort_values(by='rating', ascending=False)[:count]['article_id']"
   ]
  },
  {
   "cell_type": "code",
   "execution_count": 8,
   "id": "4c316467-db0e-4cfe-89a8-f15ed68b9df1",
   "metadata": {},
   "outputs": [],
   "source": [
    "def articles_to_str(series: pd.Series):\n",
    "    return ' '.join(series.astype(str).map(lambda x: '0' + x))"
   ]
  },
  {
   "cell_type": "code",
   "execution_count": 9,
   "id": "369d1385-3d43-4d59-9fc2-477660d44bda",
   "metadata": {},
   "outputs": [],
   "source": [
    "articles_with_gender = hm.get_articles(is_prepared=True)\n",
    "customers_with_gender = hm.get_customers(is_prepared=True)"
   ]
  },
  {
   "cell_type": "code",
   "execution_count": 21,
   "id": "79215688-0cea-4ac1-8471-dfb314d3930e",
   "metadata": {},
   "outputs": [],
   "source": [
    "top_articles_mens = get_top_articles(df=articles_with_gender, by='gender', value='M', count=count_articles)\n",
    "top_articles_womens = get_top_articles(df=articles_with_gender, by='gender', value='W', count=count_articles)\n",
    "top_articles_other = get_top_articles(df=articles_with_gender, by='gender', value='Other', count=count_articles)\n",
    "\n",
    "top_articles_mens = articles_to_str(top_articles_mens)\n",
    "top_articles_womens = articles_to_str(top_articles_womens)\n",
    "top_articles_other = articles_to_str(top_articles_other)"
   ]
  },
  {
   "cell_type": "code",
   "execution_count": 22,
   "id": "854a9881-23b0-40f5-86d5-1e0400b4a8ad",
   "metadata": {},
   "outputs": [],
   "source": [
    "sample_submission_with_gender = sample_submission.merge(customers_with_gender, on='customer_id', how='left')"
   ]
  },
  {
   "cell_type": "code",
   "execution_count": 23,
   "id": "a98b9faf-afbf-4f45-8e5d-d274fd3b81e3",
   "metadata": {},
   "outputs": [],
   "source": [
    "mens_index = sample_submission_with_gender[sample_submission_with_gender['gender'] == 'M'].index\n",
    "womens_index = sample_submission_with_gender[sample_submission_with_gender['gender'] == 'W'].index\n",
    "other_index = sample_submission_with_gender[sample_submission_with_gender['gender'] == 'Other'].index"
   ]
  },
  {
   "cell_type": "code",
   "execution_count": 24,
   "id": "9f62da3c-91ea-4945-9837-26bacaf1b4de",
   "metadata": {},
   "outputs": [],
   "source": [
    "sample_submission_with_gender.loc[mens_index, 'prediction'] = top_articles_mens\n",
    "sample_submission_with_gender.loc[womens_index, 'prediction'] = top_articles_womens\n",
    "sample_submission_with_gender.loc[other_index, 'prediction'] = top_articles_other"
   ]
  },
  {
   "cell_type": "code",
   "execution_count": 25,
   "id": "46839202-6169-45f5-941c-35d2a1bd4173",
   "metadata": {},
   "outputs": [
    {
     "data": {
      "text/plain": [
       "11         0685814001 0685816002 0685816001 0685813001 06...\n",
       "20         0685814001 0685816002 0685816001 0685813001 06...\n",
       "88         0685814001 0685816002 0685816001 0685813001 06...\n",
       "99         0685814001 0685816002 0685816001 0685813001 06...\n",
       "103        0685814001 0685816002 0685816001 0685813001 06...\n",
       "                                 ...                        \n",
       "1362213    0685814001 0685816002 0685816001 0685813001 06...\n",
       "1362222    0685814001 0685816002 0685816001 0685813001 06...\n",
       "1362238    0685814001 0685816002 0685816001 0685813001 06...\n",
       "1362240    0685814001 0685816002 0685816001 0685813001 06...\n",
       "1362275    0685814001 0685816002 0685816001 0685813001 06...\n",
       "Name: prediction, Length: 53324, dtype: object"
      ]
     },
     "execution_count": 25,
     "metadata": {},
     "output_type": "execute_result"
    }
   ],
   "source": [
    "sample_submission_with_gender.loc[mens_index, 'prediction']"
   ]
  },
  {
   "cell_type": "code",
   "execution_count": 29,
   "id": "6f38eefc-59a9-450e-a43f-dee5f93897dc",
   "metadata": {},
   "outputs": [],
   "source": [
    "sample_submission_with_gender[['customer_id', 'prediction']].set_index('customer_id').to_csv('./prediction/rating_base.csv')"
   ]
  },
  {
   "attachments": {
    "d2f0b586-def9-46af-a0cd-5a9b28b277ca.png": {
     "image/png": "[encoded data removed]"
    }
   },
   "cell_type": "markdown",
   "id": "88fb4ab9-7c45-48c8-8e90-cd5ad6b8f87e",
   "metadata": {},
   "source": [
    "### Вывод\n",
    "\n",
    "Получили результат, хуже предыдущего :(\n",
    "\n",
    "![изображение.png](attachment:d2f0b586-def9-46af-a0cd-5a9b28b277ca.png)"
   ]
  },
  {
   "cell_type": "markdown",
   "id": "752a112f-d37f-4d3a-9304-bbf40a376d8a",
   "metadata": {
    "tags": []
   },
   "source": [
    "## Предсказывание чуть послежнее (дубль 2)"
   ]
  },
  {
   "cell_type": "markdown",
   "id": "8c653193-e28e-4d0e-a7e8-d018ea096cb5",
   "metadata": {
    "tags": []
   },
   "source": [
    "### Определим для каждого товара возрастную группу, которая чаще всех его покупает"
   ]
  },
  {
   "cell_type": "code",
   "execution_count": 41,
   "id": "6af0eceb-4d7d-4c10-ad9c-f543e76be6dd",
   "metadata": {},
   "outputs": [],
   "source": [
    "transactions_train_with_age_group = transactions_train.merge(customers[['customer_id', 'age_group']], on='customer_id', how='left')"
   ]
  },
  {
   "cell_type": "code",
   "execution_count": 48,
   "id": "c3d1b9d9-2b34-49de-b433-c386b57a43ee",
   "metadata": {},
   "outputs": [],
   "source": [
    "article_and_top_age_group = pd.read_csv('./data_prepared/article_and_top_age_group.csv')"
   ]
  },
  {
   "cell_type": "code",
   "execution_count": 50,
   "id": "b765d8a3-8e4a-4e3e-8dc7-88bd10dea58d",
   "metadata": {},
   "outputs": [
    {
     "data": {
      "text/html": [
       "<div>\n",
       "<style scoped>\n",
       "    .dataframe tbody tr th:only-of-type {\n",
       "        vertical-align: middle;\n",
       "    }\n",
       "\n",
       "    .dataframe tbody tr th {\n",
       "        vertical-align: top;\n",
       "    }\n",
       "\n",
       "    .dataframe thead th {\n",
       "        text-align: right;\n",
       "    }\n",
       "</style>\n",
       "<table border=\"1\" class=\"dataframe\">\n",
       "  <thead>\n",
       "    <tr style=\"text-align: right;\">\n",
       "      <th></th>\n",
       "      <th>article_id</th>\n",
       "      <th>age_group</th>\n",
       "    </tr>\n",
       "  </thead>\n",
       "  <tbody>\n",
       "    <tr>\n",
       "      <th>0</th>\n",
       "      <td>108775015</td>\n",
       "      <td>YOUNG</td>\n",
       "    </tr>\n",
       "    <tr>\n",
       "      <th>1</th>\n",
       "      <td>108775044</td>\n",
       "      <td>YOUNG</td>\n",
       "    </tr>\n",
       "    <tr>\n",
       "      <th>2</th>\n",
       "      <td>108775051</td>\n",
       "      <td>YOUNG</td>\n",
       "    </tr>\n",
       "    <tr>\n",
       "      <th>3</th>\n",
       "      <td>110065001</td>\n",
       "      <td>YOUNG</td>\n",
       "    </tr>\n",
       "    <tr>\n",
       "      <th>4</th>\n",
       "      <td>110065002</td>\n",
       "      <td>YOUNG</td>\n",
       "    </tr>\n",
       "  </tbody>\n",
       "</table>\n",
       "</div>"
      ],
      "text/plain": [
       "   article_id age_group\n",
       "0   108775015     YOUNG\n",
       "1   108775044     YOUNG\n",
       "2   108775051     YOUNG\n",
       "3   110065001     YOUNG\n",
       "4   110065002     YOUNG"
      ]
     },
     "execution_count": 50,
     "metadata": {},
     "output_type": "execute_result"
    }
   ],
   "source": [
    "article_and_top_age_group.head()"
   ]
  },
  {
   "cell_type": "code",
   "execution_count": 52,
   "id": "03bf83e9-b8da-4a9d-b88b-8c3f8b7cfb06",
   "metadata": {},
   "outputs": [],
   "source": [
    "articles_with_age_group = articles.merge(article_and_top_age_group, on='article_id', how='left')"
   ]
  },
  {
   "cell_type": "markdown",
   "id": "6cb6422e-e074-4a0d-8cbc-06dc1c1f3192",
   "metadata": {},
   "source": [
    "### Предсказыавние"
   ]
  },
  {
   "cell_type": "code",
   "execution_count": 67,
   "id": "eca95e27-e0d7-4751-b38f-a7a0d6658a17",
   "metadata": {},
   "outputs": [],
   "source": [
    "sample_submission = hm.get_sample_submission()"
   ]
  },
  {
   "cell_type": "code",
   "execution_count": 59,
   "id": "3502ff97-1dc5-49ed-b4d2-5efdfff31a84",
   "metadata": {},
   "outputs": [],
   "source": [
    "top_articles_young = get_top_articles(df=articles_with_age_group, by='age_group', value='YOUNG', count=count_articles)\n",
    "top_articles_medium = get_top_articles(df=articles_with_age_group, by='age_group', value='MEDIUM', count=count_articles)\n",
    "top_articles_elderly = get_top_articles(df=articles_with_age_group, by='age_group', value='ELDERLY', count=count_articles)\n",
    "top_articles_senile = get_top_articles(df=articles_with_age_group, by='age_group', value='SENILE', count=count_articles)\n",
    "top_articles_long_live = get_top_articles(df=articles_with_age_group, by='age_group', value='LONG_LIVE', count=count_articles)\n",
    "\n",
    "top_articles_young = articles_to_str(top_articles_young)\n",
    "top_articles_medium = articles_to_str(top_articles_medium)\n",
    "top_articles_elderly = articles_to_str(top_articles_elderly)\n",
    "top_articles_senile = articles_to_str(top_articles_senile)\n",
    "top_articles_long_live = articles_to_str(top_articles_long_live)"
   ]
  },
  {
   "cell_type": "code",
   "execution_count": 62,
   "id": "0bf34251-eabe-4dfd-b079-a583fc46e274",
   "metadata": {},
   "outputs": [],
   "source": [
    "transactions_train_with_age_group = transactions_train.merge(customers[['customer_id', 'age_group']], on='customer_id', how='left')"
   ]
  },
  {
   "cell_type": "code",
   "execution_count": 69,
   "id": "0e3736d6-a5cf-4c4a-840c-039b693982f8",
   "metadata": {},
   "outputs": [],
   "source": [
    "sample_submission_with_age_group = sample_submission.merge(customers[['customer_id', 'age_group']], on='customer_id', how='left')"
   ]
  },
  {
   "cell_type": "code",
   "execution_count": 44,
   "id": "34b8d9c4-fc4a-4d7d-a7da-f15f9d8ad560",
   "metadata": {},
   "outputs": [],
   "source": [
    "# article_and_top_age_group = transactions_train_with_age_group.groupby('article_id')['age_group'].apply(lambda x: x.describe().top)"
   ]
  },
  {
   "cell_type": "code",
   "execution_count": 47,
   "id": "eb35d3e7-450b-4abf-b7d9-e8d14ec7b310",
   "metadata": {},
   "outputs": [],
   "source": [
    "# article_and_top_age_group.to_csv('./data_prepared/article_and_top_age_group.csv')"
   ]
  },
  {
   "cell_type": "code",
   "execution_count": 71,
   "id": "e572d165-e67a-43df-8f09-0934d3329328",
   "metadata": {},
   "outputs": [],
   "source": [
    "young_index = sample_submission_with_age_group[sample_submission_with_age_group['age_group'] == 'YOUNG'].index\n",
    "medium_index = sample_submission_with_age_group[sample_submission_with_age_group['age_group'] == 'MEDIUM'].index\n",
    "elderly_index = sample_submission_with_age_group[sample_submission_with_age_group['age_group'] == 'ELDERLY'].index\n",
    "senile_index = sample_submission_with_age_group[sample_submission_with_age_group['age_group'] == 'SENILE'].index\n",
    "long_live_index = sample_submission_with_age_group[sample_submission_with_age_group['age_group'] == 'LONG_LIVE'].index"
   ]
  },
  {
   "cell_type": "code",
   "execution_count": 72,
   "id": "5f5537b6-be2c-4ea9-a9d4-0f56da3d9cfa",
   "metadata": {},
   "outputs": [],
   "source": [
    "sample_submission_with_age_group.loc[young_index, 'prediction'] = top_articles_young\n",
    "sample_submission_with_age_group.loc[medium_index, 'prediction'] = top_articles_medium\n",
    "sample_submission_with_age_group.loc[elderly_index, 'prediction'] = top_articles_elderly\n",
    "sample_submission_with_age_group.loc[senile_index, 'prediction'] = top_articles_senile\n",
    "sample_submission_with_age_group.loc[long_live_index, 'prediction'] = top_articles_long_live"
   ]
  },
  {
   "cell_type": "code",
   "execution_count": 48,
   "id": "25aeb4de-9978-4de3-8bfc-6b1d5fddc5e1",
   "metadata": {},
   "outputs": [],
   "source": [
    "article_and_top_age_group = pd.read_csv('./data_prepared/article_and_top_age_group.csv')"
   ]
  },
  {
   "cell_type": "code",
   "execution_count": 74,
   "id": "ad5d38cb-d754-4fb8-b7b4-431badedb78f",
   "metadata": {},
   "outputs": [],
   "source": [
    "sample_submission_with_age_group[['customer_id', 'prediction']].set_index('customer_id').to_csv('./prediction/rating_base.csv')"
   ]
  },
  {
   "cell_type": "code",
   "execution_count": 50,
   "id": "35dd5a46-0693-4d13-9e9c-3497ea103158",
   "metadata": {},
   "outputs": [
    {
     "data": {
      "text/html": [
       "<div>\n",
       "<style scoped>\n",
       "    .dataframe tbody tr th:only-of-type {\n",
       "        vertical-align: middle;\n",
       "    }\n",
       "\n",
       "    .dataframe tbody tr th {\n",
       "        vertical-align: top;\n",
       "    }\n",
       "\n",
       "    .dataframe thead th {\n",
       "        text-align: right;\n",
       "    }\n",
       "</style>\n",
       "<table border=\"1\" class=\"dataframe\">\n",
       "  <thead>\n",
       "    <tr style=\"text-align: right;\">\n",
       "      <th></th>\n",
       "      <th>article_id</th>\n",
       "      <th>age_group</th>\n",
       "    </tr>\n",
       "  </thead>\n",
       "  <tbody>\n",
       "    <tr>\n",
       "      <th>0</th>\n",
       "      <td>108775015</td>\n",
       "      <td>YOUNG</td>\n",
       "    </tr>\n",
       "    <tr>\n",
       "      <th>1</th>\n",
       "      <td>108775044</td>\n",
       "      <td>YOUNG</td>\n",
       "    </tr>\n",
       "    <tr>\n",
       "      <th>2</th>\n",
       "      <td>108775051</td>\n",
       "      <td>YOUNG</td>\n",
       "    </tr>\n",
       "    <tr>\n",
       "      <th>3</th>\n",
       "      <td>110065001</td>\n",
       "      <td>YOUNG</td>\n",
       "    </tr>\n",
       "    <tr>\n",
       "      <th>4</th>\n",
       "      <td>110065002</td>\n",
       "      <td>YOUNG</td>\n",
       "    </tr>\n",
       "  </tbody>\n",
       "</table>\n",
       "</div>"
      ],
      "text/plain": [
       "   article_id age_group\n",
       "0   108775015     YOUNG\n",
       "1   108775044     YOUNG\n",
       "2   108775051     YOUNG\n",
       "3   110065001     YOUNG\n",
       "4   110065002     YOUNG"
      ]
     },
     "execution_count": 50,
     "metadata": {},
     "output_type": "execute_result"
    }
   ],
   "source": [
    "article_and_top_age_group.head()"
   ]
  },
  {
   "attachments": {
    "8047aef6-1603-4fdd-8e86-6cdfbb3c4e03.png": {
     "image/png": "[encoded data removed]"
    }
   },
   "cell_type": "markdown",
   "id": "5711aa5a-ad27-4278-853f-7bbd15802d20",
   "metadata": {},
   "source": [
    "### Вывод\n",
    "\n",
    "Результат еще стал хуже\n",
    "\n",
    "![изображение.png](attachment:8047aef6-1603-4fdd-8e86-6cdfbb3c4e03.png)"
   ]
  },
  {
   "attachments": {
    "404e2d16-e3de-4d9f-a60b-f2d5c856438a.png": {
     "image/png": "[encoded data removed]"
    }
   },
   "cell_type": "markdown",
   "id": "33ce471a-2a89-4d67-8435-989e06e15df5",
   "metadata": {},
   "source": [
    "![изображение.png](attachment:404e2d16-e3de-4d9f-a60b-f2d5c856438a.png)"
   ]
  },
  {
   "cell_type": "code",
   "execution_count": 51,
   "id": "178449a1-343a-44e1-8257-5019a7184caa",
   "metadata": {},
   "outputs": [
    {
     "data": {
      "text/html": [
       "<div>\n",
       "<style scoped>\n",
       "    .dataframe tbody tr th:only-of-type {\n",
       "        vertical-align: middle;\n",
       "    }\n",
       "\n",
       "    .dataframe tbody tr th {\n",
       "        vertical-align: top;\n",
       "    }\n",
       "\n",
       "    .dataframe thead th {\n",
       "        text-align: right;\n",
       "    }\n",
       "</style>\n",
       "<table border=\"1\" class=\"dataframe\">\n",
       "  <thead>\n",
       "    <tr style=\"text-align: right;\">\n",
       "      <th></th>\n",
       "      <th>article_id</th>\n",
       "      <th>product_code</th>\n",
       "      <th>prod_name</th>\n",
       "      <th>product_type_no</th>\n",
       "      <th>product_type_name</th>\n",
       "      <th>product_group_name</th>\n",
       "      <th>graphical_appearance_no</th>\n",
       "      <th>graphical_appearance_name</th>\n",
       "      <th>colour_group_code</th>\n",
       "      <th>colour_group_name</th>\n",
       "      <th>...</th>\n",
       "      <th>index_group_no</th>\n",
       "      <th>index_group_name</th>\n",
       "      <th>section_no</th>\n",
       "      <th>section_name</th>\n",
       "      <th>garment_group_no</th>\n",
       "      <th>garment_group_name</th>\n",
       "      <th>detail_desc</th>\n",
       "      <th>rating</th>\n",
       "      <th>price</th>\n",
       "      <th>gender</th>\n",
       "    </tr>\n",
       "  </thead>\n",
       "  <tbody>\n",
       "    <tr>\n",
       "      <th>0</th>\n",
       "      <td>706016001</td>\n",
       "      <td>706016</td>\n",
       "      <td>Jade HW Skinny Denim TRS</td>\n",
       "      <td>272</td>\n",
       "      <td>Trousers</td>\n",
       "      <td>Garment Lower body</td>\n",
       "      <td>1010016</td>\n",
       "      <td>Solid</td>\n",
       "      <td>9</td>\n",
       "      <td>Black</td>\n",
       "      <td>...</td>\n",
       "      <td>2</td>\n",
       "      <td>Divided</td>\n",
       "      <td>53</td>\n",
       "      <td>Divided Collection</td>\n",
       "      <td>1009</td>\n",
       "      <td>Trousers</td>\n",
       "      <td>High-waisted jeans in washed superstretch deni...</td>\n",
       "      <td>50287.0</td>\n",
       "      <td>0.032448</td>\n",
       "      <td>Other</td>\n",
       "    </tr>\n",
       "    <tr>\n",
       "      <th>1</th>\n",
       "      <td>706016002</td>\n",
       "      <td>706016</td>\n",
       "      <td>Jade HW Skinny Denim TRS</td>\n",
       "      <td>272</td>\n",
       "      <td>Trousers</td>\n",
       "      <td>Garment Lower body</td>\n",
       "      <td>1010016</td>\n",
       "      <td>Solid</td>\n",
       "      <td>71</td>\n",
       "      <td>Light Blue</td>\n",
       "      <td>...</td>\n",
       "      <td>2</td>\n",
       "      <td>Divided</td>\n",
       "      <td>53</td>\n",
       "      <td>Divided Collection</td>\n",
       "      <td>1009</td>\n",
       "      <td>Trousers</td>\n",
       "      <td>High-waisted jeans in washed superstretch deni...</td>\n",
       "      <td>35043.0</td>\n",
       "      <td>0.032426</td>\n",
       "      <td>Other</td>\n",
       "    </tr>\n",
       "    <tr>\n",
       "      <th>2</th>\n",
       "      <td>372860001</td>\n",
       "      <td>372860</td>\n",
       "      <td>7p Basic Shaftless</td>\n",
       "      <td>302</td>\n",
       "      <td>Socks</td>\n",
       "      <td>Socks &amp; Tights</td>\n",
       "      <td>1010016</td>\n",
       "      <td>Solid</td>\n",
       "      <td>9</td>\n",
       "      <td>Black</td>\n",
       "      <td>...</td>\n",
       "      <td>1</td>\n",
       "      <td>Ladieswear</td>\n",
       "      <td>62</td>\n",
       "      <td>Womens Nightwear, Socks &amp; Tigh</td>\n",
       "      <td>1021</td>\n",
       "      <td>Socks and Tights</td>\n",
       "      <td>Fine-knit trainer socks in a soft cotton blend.</td>\n",
       "      <td>31718.0</td>\n",
       "      <td>0.012958</td>\n",
       "      <td>W</td>\n",
       "    </tr>\n",
       "    <tr>\n",
       "      <th>3</th>\n",
       "      <td>610776002</td>\n",
       "      <td>610776</td>\n",
       "      <td>Tilly (1)</td>\n",
       "      <td>255</td>\n",
       "      <td>T-shirt</td>\n",
       "      <td>Garment Upper body</td>\n",
       "      <td>1010016</td>\n",
       "      <td>Solid</td>\n",
       "      <td>9</td>\n",
       "      <td>Black</td>\n",
       "      <td>...</td>\n",
       "      <td>1</td>\n",
       "      <td>Ladieswear</td>\n",
       "      <td>16</td>\n",
       "      <td>Womens Everyday Basics</td>\n",
       "      <td>1002</td>\n",
       "      <td>Jersey Basic</td>\n",
       "      <td>T-shirt in lightweight jersey with a rounded h...</td>\n",
       "      <td>30199.0</td>\n",
       "      <td>0.008083</td>\n",
       "      <td>W</td>\n",
       "    </tr>\n",
       "    <tr>\n",
       "      <th>4</th>\n",
       "      <td>759871002</td>\n",
       "      <td>759871</td>\n",
       "      <td>Tilda tank</td>\n",
       "      <td>253</td>\n",
       "      <td>Vest top</td>\n",
       "      <td>Garment Upper body</td>\n",
       "      <td>1010016</td>\n",
       "      <td>Solid</td>\n",
       "      <td>9</td>\n",
       "      <td>Black</td>\n",
       "      <td>...</td>\n",
       "      <td>2</td>\n",
       "      <td>Divided</td>\n",
       "      <td>80</td>\n",
       "      <td>Divided Complements Other</td>\n",
       "      <td>1002</td>\n",
       "      <td>Jersey Basic</td>\n",
       "      <td>Cropped, fitted top in cotton jersey with narr...</td>\n",
       "      <td>26329.0</td>\n",
       "      <td>0.005605</td>\n",
       "      <td>Other</td>\n",
       "    </tr>\n",
       "  </tbody>\n",
       "</table>\n",
       "<p>5 rows × 28 columns</p>\n",
       "</div>"
      ],
      "text/plain": [
       "   article_id  product_code                 prod_name  product_type_no  \\\n",
       "0   706016001        706016  Jade HW Skinny Denim TRS              272   \n",
       "1   706016002        706016  Jade HW Skinny Denim TRS              272   \n",
       "2   372860001        372860        7p Basic Shaftless              302   \n",
       "3   610776002        610776                 Tilly (1)              255   \n",
       "4   759871002        759871                Tilda tank              253   \n",
       "\n",
       "  product_type_name  product_group_name  graphical_appearance_no  \\\n",
       "0          Trousers  Garment Lower body                  1010016   \n",
       "1          Trousers  Garment Lower body                  1010016   \n",
       "2             Socks      Socks & Tights                  1010016   \n",
       "3           T-shirt  Garment Upper body                  1010016   \n",
       "4          Vest top  Garment Upper body                  1010016   \n",
       "\n",
       "  graphical_appearance_name  colour_group_code colour_group_name  ...  \\\n",
       "0                     Solid                  9             Black  ...   \n",
       "1                     Solid                 71        Light Blue  ...   \n",
       "2                     Solid                  9             Black  ...   \n",
       "3                     Solid                  9             Black  ...   \n",
       "4                     Solid                  9             Black  ...   \n",
       "\n",
       "   index_group_no index_group_name  section_no  \\\n",
       "0               2          Divided          53   \n",
       "1               2          Divided          53   \n",
       "2               1       Ladieswear          62   \n",
       "3               1       Ladieswear          16   \n",
       "4               2          Divided          80   \n",
       "\n",
       "                     section_name  garment_group_no garment_group_name  \\\n",
       "0              Divided Collection              1009           Trousers   \n",
       "1              Divided Collection              1009           Trousers   \n",
       "2  Womens Nightwear, Socks & Tigh              1021   Socks and Tights   \n",
       "3          Womens Everyday Basics              1002       Jersey Basic   \n",
       "4       Divided Complements Other              1002       Jersey Basic   \n",
       "\n",
       "                                         detail_desc   rating     price gender  \n",
       "0  High-waisted jeans in washed superstretch deni...  50287.0  0.032448  Other  \n",
       "1  High-waisted jeans in washed superstretch deni...  35043.0  0.032426  Other  \n",
       "2    Fine-knit trainer socks in a soft cotton blend.  31718.0  0.012958      W  \n",
       "3  T-shirt in lightweight jersey with a rounded h...  30199.0  0.008083      W  \n",
       "4  Cropped, fitted top in cotton jersey with narr...  26329.0  0.005605  Other  \n",
       "\n",
       "[5 rows x 28 columns]"
      ]
     },
     "execution_count": 51,
     "metadata": {},
     "output_type": "execute_result"
    }
   ],
   "source": [
    "articles.head()"
   ]
  },
  {
   "cell_type": "code",
   "execution_count": 52,
   "id": "fac02f15-1150-4651-b9f5-d3aecd5ae9dc",
   "metadata": {},
   "outputs": [],
   "source": [
    "articles_with_age_group = articles.merge(article_and_top_age_group, on='article_id', how='left')"
   ]
  },
  {
   "cell_type": "code",
   "execution_count": 53,
   "id": "7c616821-94ca-46c1-99da-35572bc241c5",
   "metadata": {},
   "outputs": [
    {
     "data": {
      "text/html": [
       "<div>\n",
       "<style scoped>\n",
       "    .dataframe tbody tr th:only-of-type {\n",
       "        vertical-align: middle;\n",
       "    }\n",
       "\n",
       "    .dataframe tbody tr th {\n",
       "        vertical-align: top;\n",
       "    }\n",
       "\n",
       "    .dataframe thead th {\n",
       "        text-align: right;\n",
       "    }\n",
       "</style>\n",
       "<table border=\"1\" class=\"dataframe\">\n",
       "  <thead>\n",
       "    <tr style=\"text-align: right;\">\n",
       "      <th></th>\n",
       "      <th>article_id</th>\n",
       "      <th>product_code</th>\n",
       "      <th>prod_name</th>\n",
       "      <th>product_type_no</th>\n",
       "      <th>product_type_name</th>\n",
       "      <th>product_group_name</th>\n",
       "      <th>graphical_appearance_no</th>\n",
       "      <th>graphical_appearance_name</th>\n",
       "      <th>colour_group_code</th>\n",
       "      <th>colour_group_name</th>\n",
       "      <th>...</th>\n",
       "      <th>index_group_name</th>\n",
       "      <th>section_no</th>\n",
       "      <th>section_name</th>\n",
       "      <th>garment_group_no</th>\n",
       "      <th>garment_group_name</th>\n",
       "      <th>detail_desc</th>\n",
       "      <th>rating</th>\n",
       "      <th>price</th>\n",
       "      <th>gender</th>\n",
       "      <th>age_group</th>\n",
       "    </tr>\n",
       "  </thead>\n",
       "  <tbody>\n",
       "    <tr>\n",
       "      <th>0</th>\n",
       "      <td>706016001</td>\n",
       "      <td>706016</td>\n",
       "      <td>Jade HW Skinny Denim TRS</td>\n",
       "      <td>272</td>\n",
       "      <td>Trousers</td>\n",
       "      <td>Garment Lower body</td>\n",
       "      <td>1010016</td>\n",
       "      <td>Solid</td>\n",
       "      <td>9</td>\n",
       "      <td>Black</td>\n",
       "      <td>...</td>\n",
       "      <td>Divided</td>\n",
       "      <td>53</td>\n",
       "      <td>Divided Collection</td>\n",
       "      <td>1009</td>\n",
       "      <td>Trousers</td>\n",
       "      <td>High-waisted jeans in washed superstretch deni...</td>\n",
       "      <td>50287.0</td>\n",
       "      <td>0.032448</td>\n",
       "      <td>Other</td>\n",
       "      <td>YOUNG</td>\n",
       "    </tr>\n",
       "    <tr>\n",
       "      <th>1</th>\n",
       "      <td>706016002</td>\n",
       "      <td>706016</td>\n",
       "      <td>Jade HW Skinny Denim TRS</td>\n",
       "      <td>272</td>\n",
       "      <td>Trousers</td>\n",
       "      <td>Garment Lower body</td>\n",
       "      <td>1010016</td>\n",
       "      <td>Solid</td>\n",
       "      <td>71</td>\n",
       "      <td>Light Blue</td>\n",
       "      <td>...</td>\n",
       "      <td>Divided</td>\n",
       "      <td>53</td>\n",
       "      <td>Divided Collection</td>\n",
       "      <td>1009</td>\n",
       "      <td>Trousers</td>\n",
       "      <td>High-waisted jeans in washed superstretch deni...</td>\n",
       "      <td>35043.0</td>\n",
       "      <td>0.032426</td>\n",
       "      <td>Other</td>\n",
       "      <td>YOUNG</td>\n",
       "    </tr>\n",
       "    <tr>\n",
       "      <th>2</th>\n",
       "      <td>372860001</td>\n",
       "      <td>372860</td>\n",
       "      <td>7p Basic Shaftless</td>\n",
       "      <td>302</td>\n",
       "      <td>Socks</td>\n",
       "      <td>Socks &amp; Tights</td>\n",
       "      <td>1010016</td>\n",
       "      <td>Solid</td>\n",
       "      <td>9</td>\n",
       "      <td>Black</td>\n",
       "      <td>...</td>\n",
       "      <td>Ladieswear</td>\n",
       "      <td>62</td>\n",
       "      <td>Womens Nightwear, Socks &amp; Tigh</td>\n",
       "      <td>1021</td>\n",
       "      <td>Socks and Tights</td>\n",
       "      <td>Fine-knit trainer socks in a soft cotton blend.</td>\n",
       "      <td>31718.0</td>\n",
       "      <td>0.012958</td>\n",
       "      <td>W</td>\n",
       "      <td>YOUNG</td>\n",
       "    </tr>\n",
       "    <tr>\n",
       "      <th>3</th>\n",
       "      <td>610776002</td>\n",
       "      <td>610776</td>\n",
       "      <td>Tilly (1)</td>\n",
       "      <td>255</td>\n",
       "      <td>T-shirt</td>\n",
       "      <td>Garment Upper body</td>\n",
       "      <td>1010016</td>\n",
       "      <td>Solid</td>\n",
       "      <td>9</td>\n",
       "      <td>Black</td>\n",
       "      <td>...</td>\n",
       "      <td>Ladieswear</td>\n",
       "      <td>16</td>\n",
       "      <td>Womens Everyday Basics</td>\n",
       "      <td>1002</td>\n",
       "      <td>Jersey Basic</td>\n",
       "      <td>T-shirt in lightweight jersey with a rounded h...</td>\n",
       "      <td>30199.0</td>\n",
       "      <td>0.008083</td>\n",
       "      <td>W</td>\n",
       "      <td>YOUNG</td>\n",
       "    </tr>\n",
       "    <tr>\n",
       "      <th>4</th>\n",
       "      <td>759871002</td>\n",
       "      <td>759871</td>\n",
       "      <td>Tilda tank</td>\n",
       "      <td>253</td>\n",
       "      <td>Vest top</td>\n",
       "      <td>Garment Upper body</td>\n",
       "      <td>1010016</td>\n",
       "      <td>Solid</td>\n",
       "      <td>9</td>\n",
       "      <td>Black</td>\n",
       "      <td>...</td>\n",
       "      <td>Divided</td>\n",
       "      <td>80</td>\n",
       "      <td>Divided Complements Other</td>\n",
       "      <td>1002</td>\n",
       "      <td>Jersey Basic</td>\n",
       "      <td>Cropped, fitted top in cotton jersey with narr...</td>\n",
       "      <td>26329.0</td>\n",
       "      <td>0.005605</td>\n",
       "      <td>Other</td>\n",
       "      <td>YOUNG</td>\n",
       "    </tr>\n",
       "    <tr>\n",
       "      <th>...</th>\n",
       "      <td>...</td>\n",
       "      <td>...</td>\n",
       "      <td>...</td>\n",
       "      <td>...</td>\n",
       "      <td>...</td>\n",
       "      <td>...</td>\n",
       "      <td>...</td>\n",
       "      <td>...</td>\n",
       "      <td>...</td>\n",
       "      <td>...</td>\n",
       "      <td>...</td>\n",
       "      <td>...</td>\n",
       "      <td>...</td>\n",
       "      <td>...</td>\n",
       "      <td>...</td>\n",
       "      <td>...</td>\n",
       "      <td>...</td>\n",
       "      <td>...</td>\n",
       "      <td>...</td>\n",
       "      <td>...</td>\n",
       "      <td>...</td>\n",
       "    </tr>\n",
       "    <tr>\n",
       "      <th>105537</th>\n",
       "      <td>926010001</td>\n",
       "      <td>926010</td>\n",
       "      <td>SC MIDDAY Tee</td>\n",
       "      <td>255</td>\n",
       "      <td>T-shirt</td>\n",
       "      <td>Garment Upper body</td>\n",
       "      <td>1010016</td>\n",
       "      <td>Solid</td>\n",
       "      <td>10</td>\n",
       "      <td>White</td>\n",
       "      <td>...</td>\n",
       "      <td>Ladieswear</td>\n",
       "      <td>82</td>\n",
       "      <td>Special Collections</td>\n",
       "      <td>1001</td>\n",
       "      <td>Unknown</td>\n",
       "      <td>Studio Collection. Overdimensioned T-shirt in ...</td>\n",
       "      <td>0.0</td>\n",
       "      <td>0.028760</td>\n",
       "      <td>Other</td>\n",
       "      <td>NaN</td>\n",
       "    </tr>\n",
       "    <tr>\n",
       "      <th>105538</th>\n",
       "      <td>896195002</td>\n",
       "      <td>896195</td>\n",
       "      <td>CHILLY LS body 2P</td>\n",
       "      <td>256</td>\n",
       "      <td>Bodysuit</td>\n",
       "      <td>Garment Upper body</td>\n",
       "      <td>1010016</td>\n",
       "      <td>Solid</td>\n",
       "      <td>81</td>\n",
       "      <td>Light Turquoise</td>\n",
       "      <td>...</td>\n",
       "      <td>Baby/Children</td>\n",
       "      <td>44</td>\n",
       "      <td>Baby Essentials &amp; Complements</td>\n",
       "      <td>1006</td>\n",
       "      <td>Woven/Jersey/Knitted mix Baby</td>\n",
       "      <td>Baby Exclusive. Long-sleeved bodysuits in soft...</td>\n",
       "      <td>0.0</td>\n",
       "      <td>0.028760</td>\n",
       "      <td>Other</td>\n",
       "      <td>NaN</td>\n",
       "    </tr>\n",
       "    <tr>\n",
       "      <th>105539</th>\n",
       "      <td>917203001</td>\n",
       "      <td>917203</td>\n",
       "      <td>BRYSON PILE jacket</td>\n",
       "      <td>252</td>\n",
       "      <td>Sweater</td>\n",
       "      <td>Garment Upper body</td>\n",
       "      <td>1010020</td>\n",
       "      <td>Contrast</td>\n",
       "      <td>73</td>\n",
       "      <td>Dark Blue</td>\n",
       "      <td>...</td>\n",
       "      <td>Menswear</td>\n",
       "      <td>21</td>\n",
       "      <td>Contemporary Casual</td>\n",
       "      <td>1005</td>\n",
       "      <td>Jersey Fancy</td>\n",
       "      <td>Jacket in soft faux shearling with a high coll...</td>\n",
       "      <td>0.0</td>\n",
       "      <td>0.028760</td>\n",
       "      <td>Other</td>\n",
       "      <td>NaN</td>\n",
       "    </tr>\n",
       "    <tr>\n",
       "      <th>105540</th>\n",
       "      <td>917203003</td>\n",
       "      <td>917203</td>\n",
       "      <td>BRYSON PILE jacket</td>\n",
       "      <td>252</td>\n",
       "      <td>Sweater</td>\n",
       "      <td>Garment Upper body</td>\n",
       "      <td>1010020</td>\n",
       "      <td>Contrast</td>\n",
       "      <td>9</td>\n",
       "      <td>Black</td>\n",
       "      <td>...</td>\n",
       "      <td>Menswear</td>\n",
       "      <td>21</td>\n",
       "      <td>Contemporary Casual</td>\n",
       "      <td>1005</td>\n",
       "      <td>Jersey Fancy</td>\n",
       "      <td>Jacket in soft faux shearling with a high coll...</td>\n",
       "      <td>0.0</td>\n",
       "      <td>0.028760</td>\n",
       "      <td>Other</td>\n",
       "      <td>NaN</td>\n",
       "    </tr>\n",
       "    <tr>\n",
       "      <th>105541</th>\n",
       "      <td>959461001</td>\n",
       "      <td>959461</td>\n",
       "      <td>Lounge dress</td>\n",
       "      <td>265</td>\n",
       "      <td>Dress</td>\n",
       "      <td>Garment Full body</td>\n",
       "      <td>1010016</td>\n",
       "      <td>Solid</td>\n",
       "      <td>11</td>\n",
       "      <td>Off White</td>\n",
       "      <td>...</td>\n",
       "      <td>Ladieswear</td>\n",
       "      <td>18</td>\n",
       "      <td>Womens Trend</td>\n",
       "      <td>1005</td>\n",
       "      <td>Jersey Fancy</td>\n",
       "      <td>Calf-length dress in ribbed jersey made from a...</td>\n",
       "      <td>0.0</td>\n",
       "      <td>0.028760</td>\n",
       "      <td>W</td>\n",
       "      <td>NaN</td>\n",
       "    </tr>\n",
       "  </tbody>\n",
       "</table>\n",
       "<p>105542 rows × 29 columns</p>\n",
       "</div>"
      ],
      "text/plain": [
       "        article_id  product_code                 prod_name  product_type_no  \\\n",
       "0        706016001        706016  Jade HW Skinny Denim TRS              272   \n",
       "1        706016002        706016  Jade HW Skinny Denim TRS              272   \n",
       "2        372860001        372860        7p Basic Shaftless              302   \n",
       "3        610776002        610776                 Tilly (1)              255   \n",
       "4        759871002        759871                Tilda tank              253   \n",
       "...            ...           ...                       ...              ...   \n",
       "105537   926010001        926010             SC MIDDAY Tee              255   \n",
       "105538   896195002        896195         CHILLY LS body 2P              256   \n",
       "105539   917203001        917203        BRYSON PILE jacket              252   \n",
       "105540   917203003        917203        BRYSON PILE jacket              252   \n",
       "105541   959461001        959461              Lounge dress              265   \n",
       "\n",
       "       product_type_name  product_group_name  graphical_appearance_no  \\\n",
       "0               Trousers  Garment Lower body                  1010016   \n",
       "1               Trousers  Garment Lower body                  1010016   \n",
       "2                  Socks      Socks & Tights                  1010016   \n",
       "3                T-shirt  Garment Upper body                  1010016   \n",
       "4               Vest top  Garment Upper body                  1010016   \n",
       "...                  ...                 ...                      ...   \n",
       "105537           T-shirt  Garment Upper body                  1010016   \n",
       "105538          Bodysuit  Garment Upper body                  1010016   \n",
       "105539           Sweater  Garment Upper body                  1010020   \n",
       "105540           Sweater  Garment Upper body                  1010020   \n",
       "105541             Dress   Garment Full body                  1010016   \n",
       "\n",
       "       graphical_appearance_name  colour_group_code colour_group_name  ...  \\\n",
       "0                          Solid                  9             Black  ...   \n",
       "1                          Solid                 71        Light Blue  ...   \n",
       "2                          Solid                  9             Black  ...   \n",
       "3                          Solid                  9             Black  ...   \n",
       "4                          Solid                  9             Black  ...   \n",
       "...                          ...                ...               ...  ...   \n",
       "105537                     Solid                 10             White  ...   \n",
       "105538                     Solid                 81   Light Turquoise  ...   \n",
       "105539                  Contrast                 73         Dark Blue  ...   \n",
       "105540                  Contrast                  9             Black  ...   \n",
       "105541                     Solid                 11         Off White  ...   \n",
       "\n",
       "        index_group_name section_no                    section_name  \\\n",
       "0                Divided         53              Divided Collection   \n",
       "1                Divided         53              Divided Collection   \n",
       "2             Ladieswear         62  Womens Nightwear, Socks & Tigh   \n",
       "3             Ladieswear         16          Womens Everyday Basics   \n",
       "4                Divided         80       Divided Complements Other   \n",
       "...                  ...        ...                             ...   \n",
       "105537        Ladieswear         82             Special Collections   \n",
       "105538     Baby/Children         44   Baby Essentials & Complements   \n",
       "105539          Menswear         21             Contemporary Casual   \n",
       "105540          Menswear         21             Contemporary Casual   \n",
       "105541        Ladieswear         18                    Womens Trend   \n",
       "\n",
       "       garment_group_no             garment_group_name  \\\n",
       "0                  1009                       Trousers   \n",
       "1                  1009                       Trousers   \n",
       "2                  1021               Socks and Tights   \n",
       "3                  1002                   Jersey Basic   \n",
       "4                  1002                   Jersey Basic   \n",
       "...                 ...                            ...   \n",
       "105537             1001                        Unknown   \n",
       "105538             1006  Woven/Jersey/Knitted mix Baby   \n",
       "105539             1005                   Jersey Fancy   \n",
       "105540             1005                   Jersey Fancy   \n",
       "105541             1005                   Jersey Fancy   \n",
       "\n",
       "                                              detail_desc   rating     price  \\\n",
       "0       High-waisted jeans in washed superstretch deni...  50287.0  0.032448   \n",
       "1       High-waisted jeans in washed superstretch deni...  35043.0  0.032426   \n",
       "2         Fine-knit trainer socks in a soft cotton blend.  31718.0  0.012958   \n",
       "3       T-shirt in lightweight jersey with a rounded h...  30199.0  0.008083   \n",
       "4       Cropped, fitted top in cotton jersey with narr...  26329.0  0.005605   \n",
       "...                                                   ...      ...       ...   \n",
       "105537  Studio Collection. Overdimensioned T-shirt in ...      0.0  0.028760   \n",
       "105538  Baby Exclusive. Long-sleeved bodysuits in soft...      0.0  0.028760   \n",
       "105539  Jacket in soft faux shearling with a high coll...      0.0  0.028760   \n",
       "105540  Jacket in soft faux shearling with a high coll...      0.0  0.028760   \n",
       "105541  Calf-length dress in ribbed jersey made from a...      0.0  0.028760   \n",
       "\n",
       "        gender age_group  \n",
       "0        Other     YOUNG  \n",
       "1        Other     YOUNG  \n",
       "2            W     YOUNG  \n",
       "3            W     YOUNG  \n",
       "4        Other     YOUNG  \n",
       "...        ...       ...  \n",
       "105537   Other       NaN  \n",
       "105538   Other       NaN  \n",
       "105539   Other       NaN  \n",
       "105540   Other       NaN  \n",
       "105541       W       NaN  \n",
       "\n",
       "[105542 rows x 29 columns]"
      ]
     },
     "execution_count": 53,
     "metadata": {},
     "output_type": "execute_result"
    }
   ],
   "source": [
    "articles_with_age_group"
   ]
  },
  {
   "cell_type": "code",
   "execution_count": null,
   "id": "4e7e98b5-3135-41e9-920f-42b3a0320e2d",
   "metadata": {},
   "outputs": [],
   "source": []
  }
 ],
 "metadata": {
  "kernelspec": {
   "display_name": "Python 3 (ipykernel)",
   "language": "python",
   "name": "python3"
  },
  "language_info": {
   "codemirror_mode": {
    "name": "ipython",
    "version": 3
   },
   "file_extension": ".py",
   "mimetype": "text/x-python",
   "name": "python",
   "nbconvert_exporter": "python",
   "pygments_lexer": "ipython3",
   "version": "3.9.13"
  }
 },
 "nbformat": 4,
 "nbformat_minor": 5
}
