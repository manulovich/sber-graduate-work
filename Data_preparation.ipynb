{
 "cells": [
  {
   "cell_type": "markdown",
   "id": "3d63a148-1e1b-4199-a9c6-887b6aa5acac",
   "metadata": {},
   "source": [
    "# Подготовка данных\n",
    "\n",
    "## Описание датасета\n",
    "Для выполнения задания предоставляется история покупок клиентов за определенный период времени, а также вспомогательные метаданные. Задача состоит в том, чтобы предсказать, какие товары купит каждый покупатель в течение 7 дней сразу после окончания обучающих данных. Клиенты, не совершившие ни одной покупки в течение этого времени, исключаются из подсчета очков.\n",
    "\n",
    "## Содержание\n",
    "- __images/__ - Папка с папками, наименования которых соответсвуют первым 3 цифрам article_id, которые расположены внутри;\n",
    "- __article.csv__ — Пдробные метаданные для каждого article_id, доступного для покупки;\n",
    "- __customers.csv__ — Метаданные для каждого customer_id в наборе данных;\n",
    "- __sample_submission.csv__ — Образец решения для Kaggle;\n",
    "- __transaction_train.csv__ — Обучающие данные."
   ]
  },
  {
   "cell_type": "markdown",
   "id": "73746ba3-9d2f-421a-a707-7fb5bb0180be",
   "metadata": {},
   "source": [
    "## Библиотеки"
   ]
  },
  {
   "cell_type": "code",
   "execution_count": 1,
   "id": "e1c8cb39-0034-4c2e-a3c1-66c65a00ccc5",
   "metadata": {},
   "outputs": [],
   "source": [
    "import pandas as pd\n",
    "import numpy as np"
   ]
  },
  {
   "cell_type": "markdown",
   "id": "6d844655-5612-40ba-a4fa-84740cbecaef",
   "metadata": {},
   "source": [
    "## Загрузка данных"
   ]
  },
  {
   "cell_type": "code",
   "execution_count": 2,
   "id": "baf778f2-d485-430b-9549-06e6db749641",
   "metadata": {},
   "outputs": [],
   "source": [
    "transactions = pd.read_csv('./data/transactions_train.csv', dtype={'article_id': str})\n",
    "transactions['t_dat'] = pd.to_datetime(transactions['t_dat'])\n",
    "\n",
    "articles = pd.read_csv('./data/articles.csv', dtype={'article_id': str})\n",
    "customers = pd.read_csv('./data/customers.csv')"
   ]
  },
  {
   "cell_type": "markdown",
   "id": "2d028fa3-c167-4995-9231-6eaa80e60c59",
   "metadata": {},
   "source": [
    "## transactions_train"
   ]
  },
  {
   "cell_type": "markdown",
   "id": "f9f162c0-7cee-4dff-977f-a8a92d3e3299",
   "metadata": {
    "tags": []
   },
   "source": [
    "### Признак `week`\n",
    "\n",
    "Данный признак будет отвечат за то, сколько недель прошло с момента совершнения транзакции до самой последней транзакции во всем датасете"
   ]
  },
  {
   "cell_type": "code",
   "execution_count": 3,
   "id": "574d98f1-ab24-424f-9b0f-fc86fb663a4d",
   "metadata": {},
   "outputs": [],
   "source": [
    "active_articles = transactions.groupby('article_id')['t_dat'].max().reset_index() # Дата последней покупки товара\n",
    "active_articles = active_articles[active_articles['t_dat'] >= '2019']"
   ]
  },
  {
   "cell_type": "code",
   "execution_count": 4,
   "id": "c011737d-9aba-4157-b9fe-d00e90c68331",
   "metadata": {},
   "outputs": [],
   "source": [
    "transactions = transactions[transactions['article_id'].isin(active_articles['article_id'])].reset_index(drop=True)"
   ]
  },
  {
   "cell_type": "code",
   "execution_count": 5,
   "id": "2c1a16a4-cf95-4226-bbfc-790d66d2f4c6",
   "metadata": {},
   "outputs": [],
   "source": [
    "transactions['week'] = (transactions['t_dat'].max() - transactions['t_dat']).dt.days // 7"
   ]
  },
  {
   "cell_type": "code",
   "execution_count": 6,
   "id": "fb068dee-b175-4c7b-8c34-41a0e0e11bac",
   "metadata": {},
   "outputs": [],
   "source": [
    "transactions.to_csv('./data_prepared/transactions_train.csv', index=False)"
   ]
  },
  {
   "cell_type": "markdown",
   "id": "acdd3717-13f8-4640-a3e8-5d4426f17c55",
   "metadata": {},
   "source": [
    "##  articles"
   ]
  },
  {
   "cell_type": "markdown",
   "id": "08a657e0-5ea6-4fd8-93a4-53e5e4edebd6",
   "metadata": {
    "tags": []
   },
   "source": [
    "### Признак `rating`\n",
    "\n",
    "Данный признак будет соответсовать количеству покупок конкретного товара"
   ]
  },
  {
   "cell_type": "code",
   "execution_count": 7,
   "id": "35d78438-7046-4578-bc28-5f5bac292959",
   "metadata": {},
   "outputs": [],
   "source": [
    "article_count = transactions['article_id'].value_counts()"
   ]
  },
  {
   "cell_type": "code",
   "execution_count": 8,
   "id": "c715ebc9-557a-4d5f-a4e5-680125d60669",
   "metadata": {},
   "outputs": [],
   "source": [
    "articles = articles.merge(article_count, how='left', left_on='article_id', right_index=True)\n",
    "articles = articles.rename({'article_id_x': 'article_id', 'article_id_y': 'rating'}, axis=1)"
   ]
  },
  {
   "cell_type": "code",
   "execution_count": 9,
   "id": "29e039f8-6864-4971-945f-b55367f45a5e",
   "metadata": {},
   "outputs": [],
   "source": [
    "articles['rating'] = articles['rating'].fillna(0)"
   ]
  },
  {
   "cell_type": "markdown",
   "id": "e3b8ef1e-e284-4fe5-9554-bc5340df7016",
   "metadata": {},
   "source": [
    "### Обработка пропусков"
   ]
  },
  {
   "cell_type": "code",
   "execution_count": 10,
   "id": "d419a9be-7072-4c36-bc26-c4025b521be9",
   "metadata": {},
   "outputs": [],
   "source": [
    "articles['detail_desc'] = articles['detail_desc'].fillna('Other')"
   ]
  },
  {
   "cell_type": "code",
   "execution_count": 11,
   "id": "0104bdcb-40fc-4539-a222-f62331584ee1",
   "metadata": {},
   "outputs": [],
   "source": [
    "articles.to_csv('./data_prepared/articles.csv', index=False)"
   ]
  },
  {
   "cell_type": "markdown",
   "id": "188d2016-8905-49c7-9fdb-89c74ca77495",
   "metadata": {},
   "source": [
    "## customers"
   ]
  },
  {
   "cell_type": "markdown",
   "id": "82f258ba-b8b7-40c6-a12b-b21ec6cf3b1a",
   "metadata": {
    "tags": []
   },
   "source": [
    "### Признак age_group\n",
    "\n",
    "Данный признак будет отвечать за возрастные группы. Выделим следущие периоды:\n",
    "1. 0-6 - Дошкольники;\n",
    "2. 7-17 - Школьники;\n",
    "3. 18-44 - Молодые;\n",
    "4. 45-59 – Средние;\n",
    "5. 60-74 – Пожилые;\n",
    "6. 75-89 – Старческие;\n",
    "7. 90-100 - Долгожители."
   ]
  },
  {
   "cell_type": "code",
   "execution_count": 12,
   "id": "df2438aa-e244-4784-baa2-2ef2f562d333",
   "metadata": {},
   "outputs": [],
   "source": [
    "# Заполним пропущенные значения средним возрастом \n",
    "customers['age'] = customers['age'].fillna(customers['age'].mean())"
   ]
  },
  {
   "cell_type": "code",
   "execution_count": 13,
   "id": "888f9f86-ea27-4959-8c77-2a823be3c434",
   "metadata": {},
   "outputs": [],
   "source": [
    "age_groups = {\n",
    "    'PRESCHOOLERS': [0, 6],\n",
    "    'SCHOOLERS': [7, 17],\n",
    "    'YOUNG': [18, 44],\n",
    "    'MEDIUM': [45, 59],\n",
    "    'ELDERLY': [60, 74],\n",
    "    'SENILE': [75, 89],\n",
    "    'LONG_LIVE': [90, 1000]\n",
    "}"
   ]
  },
  {
   "cell_type": "code",
   "execution_count": 14,
   "id": "eb52dbe4-16ca-4740-b07c-45f2681715c1",
   "metadata": {},
   "outputs": [],
   "source": [
    "customers['age_group'] = np.nan\n",
    "\n",
    "for group in age_groups:\n",
    "    index = customers[(customers['age'] > age_groups[group][0] - 1) & (customers['age'] < age_groups[group][1] + 1)].index\n",
    "    customers.loc[index, 'age_group'] = group"
   ]
  },
  {
   "cell_type": "markdown",
   "id": "9787cc64-b6c4-49b8-9b0e-984464b91f59",
   "metadata": {},
   "source": [
    "### Обработка пропусков"
   ]
  },
  {
   "cell_type": "code",
   "execution_count": 15,
   "id": "2ccb697a-03be-4f41-b595-608a3cd332a1",
   "metadata": {},
   "outputs": [],
   "source": [
    "customers['FN'] = customers['FN'].fillna(0)\n",
    "customers['Active'] = customers['Active'].fillna(0)\n",
    "customers['club_member_status'] = customers['club_member_status'].fillna('LEFT CLUB')\n",
    "customers['fashion_news_frequency'] = customers['fashion_news_frequency'].replace({'None': 'NONE'}).fillna(customers['fashion_news_frequency'].mode()[0])"
   ]
  },
  {
   "cell_type": "code",
   "execution_count": 16,
   "id": "ac2ec528-a876-4fb0-b912-0a5cd1387b4a",
   "metadata": {},
   "outputs": [],
   "source": [
    "# Признак 'postal_code' скорее-всего нам не прегодится, поётому смело удалим его\n",
    "customers = customers.drop('postal_code', axis=1)"
   ]
  },
  {
   "cell_type": "code",
   "execution_count": 17,
   "id": "c933409b-ed9c-4334-a0b4-cff9b1bb3a3a",
   "metadata": {},
   "outputs": [],
   "source": [
    "customers.to_csv('./data_prepared/customers.csv', index=False)"
   ]
  },
  {
   "cell_type": "code",
   "execution_count": null,
   "id": "9df0cb53-ba5e-4189-89f2-45e2c26c609c",
   "metadata": {},
   "outputs": [],
   "source": []
  }
 ],
 "metadata": {
  "kernelspec": {
   "display_name": "Python 3 (ipykernel)",
   "language": "python",
   "name": "python3"
  },
  "language_info": {
   "codemirror_mode": {
    "name": "ipython",
    "version": 3
   },
   "file_extension": ".py",
   "mimetype": "text/x-python",
   "name": "python",
   "nbconvert_exporter": "python",
   "pygments_lexer": "ipython3",
   "version": "3.9.13"
  }
 },
 "nbformat": 4,
 "nbformat_minor": 5
}
